{
  "nbformat": 4,
  "nbformat_minor": 0,
  "metadata": {
    "colab": {
      "provenance": [],
      "include_colab_link": true
    },
    "kernelspec": {
      "name": "python3",
      "display_name": "Python 3"
    },
    "language_info": {
      "name": "python"
    }
  },
  "cells": [
    {
      "cell_type": "markdown",
      "metadata": {
        "id": "view-in-github",
        "colab_type": "text"
      },
      "source": [
        "<a href=\"https://colab.research.google.com/github/Mashrur001/CSE220-LECTURES-/blob/main/Linked_List_Variations.ipynb\" target=\"_parent\"><img src=\"https://colab.research.google.com/assets/colab-badge.svg\" alt=\"Open In Colab\"/></a>"
      ]
    },
    {
      "cell_type": "markdown",
      "source": [
        "# Doubly"
      ],
      "metadata": {
        "id": "TDrFqVdifPQK"
      }
    },
    {
      "cell_type": "code",
      "execution_count": null,
      "metadata": {
        "id": "175hhqx9YW1_"
      },
      "outputs": [],
      "source": [
        "class Node:\n",
        "  def __init__(self, elem, next=None, prev=None):\n",
        "    self.elem= elem\n",
        "    self.next= next\n",
        "    self.prev=prev\n",
        "\n",
        "# x= Node(15)\n",
        "# y= Node(30)\n",
        "# x.next= y\n",
        "# type(x)"
      ]
    },
    {
      "cell_type": "markdown",
      "source": [
        "# 4.  Creating a Linked List from an Array/List"
      ],
      "metadata": {
        "id": "tEMb1nKTbcDN"
      }
    },
    {
      "cell_type": "code",
      "source": [
        "def createList(arr):\n",
        "  head= Node(arr[0])\n",
        "  tail = head\n",
        "\n",
        "  for i in range(1, len(arr)):\n",
        "    n= Node(arr[i],None,tail)\n",
        "    tail.next= n\n",
        "    tail= tail.next\n",
        "  tail.next=head\n",
        "  return head\n",
        "\n",
        "head= createList([5,6,7])"
      ],
      "metadata": {
        "id": "Pos7T_lYY2rr"
      },
      "execution_count": null,
      "outputs": []
    },
    {
      "cell_type": "code",
      "source": [
        "def printList(head):\n",
        "\n",
        "  if head!=None:\n",
        "    print(head.elem)\n",
        "  tail= head.next\n",
        "  while(tail!=head):\n",
        "    print(tail.elem)\n",
        "    tail=tail.next\n",
        "\n",
        "printList(head)"
      ],
      "metadata": {
        "colab": {
          "base_uri": "https://localhost:8080/"
        },
        "id": "170MhSSJg1qC",
        "outputId": "20ea0931-cf73-432c-d019-8e6c96770e4a"
      },
      "execution_count": null,
      "outputs": [
        {
          "output_type": "stream",
          "name": "stdout",
          "text": [
            "5\n",
            "6\n",
            "7\n"
          ]
        }
      ]
    },
    {
      "cell_type": "code",
      "source": [
        "def countNode(head):\n",
        "  count=0\n",
        "  tail=head\n",
        "  while(tail!=None):\n",
        "    count+=1\n",
        "    tail=tail.next\n",
        "  return count"
      ],
      "metadata": {
        "id": "HtoGo_hSj0Dq"
      },
      "execution_count": null,
      "outputs": []
    },
    {
      "cell_type": "code",
      "source": [
        "def NodeAt(head, idx):\n",
        "  tail=head\n",
        "  count=1\n",
        "  while(tail!=None):\n",
        "    if (count==idx):\n",
        "      return tail\n",
        "    count+=1\n",
        "  return None"
      ],
      "metadata": {
        "id": "DMaKERxpkgMy"
      },
      "execution_count": null,
      "outputs": []
    },
    {
      "cell_type": "code",
      "source": [
        "def reverse(head):\n",
        "  temp= head\n",
        "  newHead= None\n",
        "  while temp!=None:\n",
        "    n=temp.next\n",
        "    temp.next=newHead\n",
        "    newHead= temp\n",
        "    temp= n\n",
        "  return newHead"
      ],
      "metadata": {
        "id": "ToTTsDook0Uq"
      },
      "execution_count": null,
      "outputs": []
    },
    {
      "cell_type": "code",
      "source": [
        "newHead=reverse(head)\n",
        "printList(newHead)"
      ],
      "metadata": {
        "colab": {
          "base_uri": "https://localhost:8080/"
        },
        "id": "cmnBBAd0laX9",
        "outputId": "2b053c47-6bf6-445c-f030-4a5e5d04078b"
      },
      "execution_count": null,
      "outputs": [
        {
          "output_type": "stream",
          "name": "stdout",
          "text": [
            "5\n",
            "6\n",
            "7\n"
          ]
        }
      ]
    }
  ]
}