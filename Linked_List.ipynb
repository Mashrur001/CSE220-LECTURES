{
  "nbformat": 4,
  "nbformat_minor": 0,
  "metadata": {
    "colab": {
      "provenance": [],
      "include_colab_link": true
    },
    "kernelspec": {
      "name": "python3",
      "display_name": "Python 3"
    },
    "language_info": {
      "name": "python"
    }
  },
  "cells": [
    {
      "cell_type": "markdown",
      "metadata": {
        "id": "view-in-github",
        "colab_type": "text"
      },
      "source": [
        "<a href=\"https://colab.research.google.com/github/Mashrur001/CSE220-LECTURES-/blob/main/Linked_List.ipynb\" target=\"_parent\"><img src=\"https://colab.research.google.com/assets/colab-badge.svg\" alt=\"Open In Colab\"/></a>"
      ]
    },
    {
      "cell_type": "markdown",
      "source": [
        "# 1.  Why Study Linked List?\n",
        "\n",
        "1.1.   Each entity can hold more than one information\n",
        "\n",
        "1.2.   Unlimited length. Can resize the linked list without having to create an entirely new linked list\n",
        "\n",
        "# 2. What are the Problems with Linked Lists?\n",
        "2.1. To access any value anywhere in the linked list, the entire list must be visited starting from the head\n",
        "\n",
        "2.2. If the connection of the nodes inside the linked list is severed, the linked list is lost forever"
      ],
      "metadata": {
        "id": "wOWXtPT7Y_6G"
      }
    },
    {
      "cell_type": "markdown",
      "source": [
        "# 3.  Linked List Terms\n",
        "\n",
        "**3.1.   Node:** Smallest entities inside linked lists. A linked list is a collection of nodes connected together\n",
        "\n",
        "**3.2.   Head:** The starting node\n",
        "\n",
        "**3.3.   Element:** Personal information of a specific node\n",
        "\n",
        "**3.4.   Next:** Location of the next node\n",
        "\n",
        "**3.5.   Prev:** Location of the previous node. Only needed in doubly linked lists"
      ],
      "metadata": {
        "id": "KqT9qUWkaF8_"
      }
    },
    {
      "cell_type": "code",
      "execution_count": null,
      "metadata": {
        "id": "175hhqx9YW1_"
      },
      "outputs": [],
      "source": [
        "class Node:\n",
        "  def __init__(self, elem, next=None):\n",
        "    self.elem= elem\n",
        "    self.next= next\n",
        "\n",
        "# x= Node(15)\n",
        "# y= Node(30)\n",
        "# x.next= y\n",
        "# type(x)"
      ]
    },
    {
      "cell_type": "markdown",
      "source": [
        "# 4.  Creating a Linked List from an Array/List"
      ],
      "metadata": {
        "id": "tEMb1nKTbcDN"
      }
    },
    {
      "cell_type": "code",
      "source": [
        "class Node:\n",
        "  def __init__(self, elem, next=None):\n",
        "    self.elem= elem\n",
        "    self.next= next\n",
        "\n",
        "def createList(arr):\n",
        "  head= Node(arr[0])\n",
        "  tail = head\n",
        "\n",
        "  for i in range(1, len(arr)):\n",
        "    n= Node(arr[i],None)\n",
        "    tail.next= n\n",
        "    tail= tail.next\n",
        "  tail.next=head\n",
        "  return head\n",
        "\n",
        "head= createList([5,6,7])"
      ],
      "metadata": {
        "id": "Pos7T_lYY2rr"
      },
      "execution_count": null,
      "outputs": []
    },
    {
      "cell_type": "code",
      "source": [
        "def printList(head):\n",
        "\n",
        "  if head!=None:\n",
        "    print(head.elem)\n",
        "  tail= head.next\n",
        "  while(tail!=head):\n",
        "    print(tail.elem)\n",
        "    tail=tail.next\n",
        "\n",
        "printList(head)"
      ],
      "metadata": {
        "colab": {
          "base_uri": "https://localhost:8080/"
        },
        "id": "170MhSSJg1qC",
        "outputId": "effea950-99ca-486f-879f-fe16687a2991"
      },
      "execution_count": null,
      "outputs": [
        {
          "output_type": "stream",
          "name": "stdout",
          "text": [
            "5\n",
            "6\n",
            "7\n"
          ]
        }
      ]
    },
    {
      "cell_type": "code",
      "source": [
        "def secondLast(head):\n",
        "  if head==None or head.next==None:\n",
        "    return None\n",
        "\n",
        "  tail= head.next\n",
        "  while(tail.next.next!=head):\n",
        "    tail=tail.next\n",
        "  return tail.elem\n",
        "\n",
        "print(secondLast(head))"
      ],
      "metadata": {
        "colab": {
          "base_uri": "https://localhost:8080/"
        },
        "id": "Z2kitpCfhJmb",
        "outputId": "da6f8440-85bd-4ee8-b8fa-439e2d09af2e"
      },
      "execution_count": null,
      "outputs": [
        {
          "output_type": "stream",
          "name": "stdout",
          "text": [
            "6\n"
          ]
        }
      ]
    },
    {
      "cell_type": "code",
      "source": [
        "def insert(head, elem, idx):\n",
        "  count= countNode()\n",
        "\n",
        "\n",
        "insert(head, 15, 2)"
      ],
      "metadata": {
        "id": "rThGjcsBl6Qe"
      },
      "execution_count": null,
      "outputs": []
    },
    {
      "cell_type": "code",
      "source": [
        "def matrixPrint(matrix):\n",
        "  row, col= matrix.shape\n",
        "  for i in range(row):\n",
        "    for j in range(col):\n",
        "      print(matrix[i][j], end=\"  \")\n",
        "    print()"
      ],
      "metadata": {
        "id": "fEub7eptu4LS"
      },
      "execution_count": null,
      "outputs": []
    },
    {
      "cell_type": "code",
      "source": [
        "def rotate(matrix):\n",
        "  row,col=matrix.shape\n",
        "  last= row-1\n",
        "  for i in range(0, row-1):\n",
        "    # Save the top element\n",
        "    top = matrix[0][i]\n",
        "    # Right -> Top\n",
        "    matrix[0][i] = matrix[i][last]\n",
        "    # Bottom -> Right\n",
        "    matrix[i][last] = matrix[last][last - i]\n",
        "    # Left -> Bottom\n",
        "    matrix[last][last - i] = matrix[last - i][0]\n",
        "    # Top -> Left\n",
        "    matrix[last - i][0] = top\n",
        "  return matrix"
      ],
      "metadata": {
        "id": "Qlgls-1pum1o"
      },
      "execution_count": null,
      "outputs": []
    },
    {
      "cell_type": "code",
      "source": [
        "import numpy as np\n",
        "matrix = np.zeros((4,4), dtype=str)\n",
        "\n",
        "temp = 'A'\n",
        "row, col = matrix.shape\n",
        "for i in range(row):\n",
        "  for j in range(col):\n",
        "    matrix[i][j] = temp\n",
        "    temp = ord(temp)+1\n",
        "    temp = chr(temp)\n",
        "matrixPrint(matrix)\n",
        "print(\"*\"*10)\n",
        "new_matrix= rotate(matrix)\n",
        "matrixPrint(new_matrix)"
      ],
      "metadata": {
        "colab": {
          "base_uri": "https://localhost:8080/"
        },
        "id": "Plyv1AUGumyx",
        "outputId": "2154e1f6-1d64-4980-ae54-508849de8031"
      },
      "execution_count": null,
      "outputs": [
        {
          "output_type": "stream",
          "name": "stdout",
          "text": [
            "A  B  C  D  \n",
            "E  F  G  H  \n",
            "I  J  K  L  \n",
            "M  N  O  P  \n",
            "**********\n",
            "D  H  L  P  \n",
            "C  F  G  O  \n",
            "B  J  K  N  \n",
            "A  E  I  M  \n"
          ]
        }
      ]
    },
    {
      "cell_type": "code",
      "source": [],
      "metadata": {
        "id": "zKpw9hf1wEiR"
      },
      "execution_count": null,
      "outputs": []
    }
  ]
}