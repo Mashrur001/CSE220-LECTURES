{
  "nbformat": 4,
  "nbformat_minor": 0,
  "metadata": {
    "colab": {
      "provenance": [],
      "include_colab_link": true
    },
    "kernelspec": {
      "name": "python3",
      "display_name": "Python 3"
    },
    "language_info": {
      "name": "python"
    }
  },
  "cells": [
    {
      "cell_type": "markdown",
      "metadata": {
        "id": "view-in-github",
        "colab_type": "text"
      },
      "source": [
        "<a href=\"https://colab.research.google.com/github/Mashrur001/CSE220-LECTURES/blob/main/Queue.ipynb\" target=\"_parent\"><img src=\"https://colab.research.google.com/assets/colab-badge.svg\" alt=\"Open In Colab\"/></a>"
      ]
    },
    {
      "cell_type": "markdown",
      "source": [
        "# Array based"
      ],
      "metadata": {
        "id": "zr1vD-zJjWzk"
      }
    },
    {
      "cell_type": "code",
      "source": [],
      "metadata": {
        "id": "AoHO77wHscaI"
      },
      "execution_count": null,
      "outputs": []
    },
    {
      "cell_type": "code",
      "execution_count": null,
      "metadata": {
        "colab": {
          "base_uri": "https://localhost:8080/"
        },
        "id": "ViJHTBMjOZ6A",
        "outputId": "5d3ccda0-789f-4860-bd5b-edb567568847"
      },
      "outputs": [
        {
          "output_type": "stream",
          "name": "stdout",
          "text": [
            "[None, None, None, 1, 5, 2, 4, 7, None, None]\n"
          ]
        }
      ],
      "source": [
        "class Queue:\n",
        "  def __init__(self, arr=[1,5,2,4,7]):\n",
        "    self.q = [None]*10\n",
        "    self.front= 3\n",
        "    self.rear= self.front\n",
        "    self.size=0\n",
        "\n",
        "    for i in arr:\n",
        "      self.q[self.rear]= i #enqueue\n",
        "      self.size+=1\n",
        "      self.rear= (self.rear+1)%len(self.q)\n",
        "\n",
        "\n",
        "queue=Queue()\n",
        "print(queue.q)"
      ]
    },
    {
      "cell_type": "code",
      "source": [
        "#Enqueue\n",
        "def enquque(queue, elem):\n",
        "  if (queue.size==len(queue.q)):\n",
        "    print(\"No space\")\n",
        "    #Resize queue/Throw Overflow Exception\n",
        "  else:\n",
        "    queue.q[(queue.front+queue.size)%len(queue.q)]=elem #self.rear\n",
        "    queue.size+=1\n",
        "    # queue.rear= (queue.rear+1)%len(queue.q)\n",
        "enquque(queue, 15)\n",
        "enquque(queue, 25)\n",
        "enquque(queue, -5)\n",
        "print(queue.q)"
      ],
      "metadata": {
        "colab": {
          "base_uri": "https://localhost:8080/"
        },
        "id": "-JCxw5r9TMZn",
        "outputId": "4b406e76-453d-4e1c-c840-25913209dcef"
      },
      "execution_count": null,
      "outputs": [
        {
          "output_type": "stream",
          "name": "stdout",
          "text": [
            "[-5, None, None, 1, 5, 2, 4, 7, 15, 25]\n"
          ]
        }
      ]
    },
    {
      "cell_type": "code",
      "source": [
        "#Dequeue\n",
        "def dequque(queue):\n",
        "  if (queue.size==0):\n",
        "    print(\"Nothing to Dequeue\") #Throw Underflow Exception\n",
        "  else:\n",
        "    x= queue.q[(queue.front)]\n",
        "    queue.q[(queue.front)]=None\n",
        "    queue.front=(queue.front+1)%len(queue.q)\n",
        "    queue.size-=1\n",
        "    return x\n",
        "\n",
        "dequque(queue)\n",
        "print(queue.q)"
      ],
      "metadata": {
        "colab": {
          "base_uri": "https://localhost:8080/"
        },
        "id": "8R45K5vuUjO2",
        "outputId": "944554af-57e6-44ea-c9e8-773df3d34643"
      },
      "execution_count": null,
      "outputs": [
        {
          "output_type": "stream",
          "name": "stdout",
          "text": [
            "[-5, None, None, None, 5, 2, 4, 7, 15, 25]\n"
          ]
        }
      ]
    },
    {
      "cell_type": "code",
      "source": [
        "#Peek\n",
        "def peek(queue):\n",
        "  if (queue.size==0):\n",
        "    print(\"Nothing to Peek\")\n",
        "  else:\n",
        "    return queue.q[queue.front]\n",
        "\n",
        "print(peek(queue))"
      ],
      "metadata": {
        "colab": {
          "base_uri": "https://localhost:8080/"
        },
        "id": "VcA-5D6iVBAT",
        "outputId": "813052f8-66e5-4605-9cb8-d78aee348bd0"
      },
      "execution_count": null,
      "outputs": [
        {
          "output_type": "stream",
          "name": "stdout",
          "text": [
            "5\n"
          ]
        }
      ]
    },
    {
      "cell_type": "markdown",
      "source": [
        "# Linked List Based"
      ],
      "metadata": {
        "id": "z9rVCb3JjZ6q"
      }
    },
    {
      "cell_type": "code",
      "source": [
        "class Node:\n",
        "  def __init__(self,elem=None,next=None):\n",
        "    self.elem= elem\n",
        "    self.next= next"
      ],
      "metadata": {
        "id": "GbFm_GbSjbxS"
      },
      "execution_count": null,
      "outputs": []
    },
    {
      "cell_type": "code",
      "source": [
        "class Queue:\n",
        "  def __init__(self):\n",
        "    self.__front= None\n",
        "    self.__rear= None\n",
        "\n",
        "  def enqueue(self, elem):\n",
        "    n= Node(elem, None)\n",
        "    if (self.__front==None):\n",
        "      self.__front= n\n",
        "      self.__rear= n\n",
        "    else:\n",
        "      self.__rear.next=n\n",
        "      self.__rear= n\n",
        "\n",
        "  def dequeue(self):\n",
        "    if self.__front==None:\n",
        "      print(\"Underflow\")\n",
        "      return None\n",
        "\n",
        "    e= self.__front\n",
        "    self.__front= self.__front.next\n",
        "    return e.elem\n",
        "\n",
        "  def peek(self):\n",
        "    if self.__front==None:\n",
        "      print(\"Underflow\")\n",
        "      return None\n",
        "    return self.__front.elem"
      ],
      "metadata": {
        "id": "cMorjSrCjySC"
      },
      "execution_count": null,
      "outputs": []
    },
    {
      "cell_type": "code",
      "source": [
        "q= Queue()\n",
        "q.enqueue(5)\n",
        "q.enqueue(4)\n",
        "q.enqueue(6)\n",
        "print(q.dequeue())\n",
        "print(q.peek())"
      ],
      "metadata": {
        "colab": {
          "base_uri": "https://localhost:8080/"
        },
        "id": "LRo98YbHp_zj",
        "outputId": "20bbaedb-fed2-42c1-fd14-10fc8deda4e6"
      },
      "execution_count": null,
      "outputs": [
        {
          "output_type": "stream",
          "name": "stdout",
          "text": [
            "5\n",
            "6\n"
          ]
        }
      ]
    },
    {
      "cell_type": "code",
      "source": [],
      "metadata": {
        "id": "xqRQvFCcUD4f"
      },
      "execution_count": null,
      "outputs": []
    }
  ]
}