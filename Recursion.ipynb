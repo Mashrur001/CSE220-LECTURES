{
  "nbformat": 4,
  "nbformat_minor": 0,
  "metadata": {
    "colab": {
      "provenance": [],
      "include_colab_link": true
    },
    "kernelspec": {
      "name": "python3",
      "display_name": "Python 3"
    },
    "language_info": {
      "name": "python"
    }
  },
  "cells": [
    {
      "cell_type": "markdown",
      "metadata": {
        "id": "view-in-github",
        "colab_type": "text"
      },
      "source": [
        "<a href=\"https://colab.research.google.com/github/Mashrur001/CSE220-LECTURES/blob/main/Recursion.ipynb\" target=\"_parent\"><img src=\"https://colab.research.google.com/assets/colab-badge.svg\" alt=\"Open In Colab\"/></a>"
      ]
    },
    {
      "cell_type": "markdown",
      "source": [
        "# Singly Linked List Creation"
      ],
      "metadata": {
        "id": "g3QnBPfa4b42"
      }
    },
    {
      "cell_type": "code",
      "execution_count": null,
      "metadata": {
        "id": "KO7VKrNnvZ_9"
      },
      "outputs": [],
      "source": [
        "class Node:\n",
        "  def __init__(self, val, next):\n",
        "    self.val=val\n",
        "    self.next=next"
      ]
    },
    {
      "cell_type": "code",
      "source": [
        "class LinkedList:\n",
        "  # head=None\n",
        "  def __init__(self,l1):\n",
        "    self.head= Node(l1[0], None)\n",
        "    n1=self.head\n",
        "    # print(n1.val)\n",
        "    for i in l1[1:]:\n",
        "      n2= Node(i, None)\n",
        "      n1.next=n2\n",
        "      n1=n2\n",
        "\n",
        "  def getHead(self):\n",
        "    return self.head"
      ],
      "metadata": {
        "id": "OerqZYYyvs-G"
      },
      "execution_count": null,
      "outputs": []
    },
    {
      "cell_type": "code",
      "source": [
        "ll1= LinkedList([5,10,15,-5,12])\n",
        "head= ll1.getHead()"
      ],
      "metadata": {
        "id": "pEpWEh5u2KhD"
      },
      "execution_count": null,
      "outputs": []
    },
    {
      "cell_type": "code",
      "source": [
        "def iterativePrintList(head):\n",
        "  while(head!=None):\n",
        "    print(head.val)\n",
        "    head=head.next\n",
        "\n",
        "iterativePrintList(head)"
      ],
      "metadata": {
        "colab": {
          "base_uri": "https://localhost:8080/"
        },
        "id": "OXRYiovF70RK",
        "outputId": "631e0a33-010b-42e6-b073-0ad1edaa714f"
      },
      "execution_count": null,
      "outputs": [
        {
          "output_type": "stream",
          "name": "stdout",
          "text": [
            "5\n",
            "10\n",
            "15\n",
            "-5\n",
            "12\n"
          ]
        }
      ]
    },
    {
      "cell_type": "markdown",
      "source": [
        "**1.2 ForwardPrinting a singly linkled list values using recursion**"
      ],
      "metadata": {
        "id": "B1DuHqjp4_gf"
      }
    },
    {
      "cell_type": "code",
      "source": [
        "def recursiveForwardPrintList(head):\n",
        "  if head!=None:\n",
        "    print(head.val)\n",
        "    recursiveForwardPrintList(head.next)\n",
        "\n",
        "recursiveForwardPrintList(head)"
      ],
      "metadata": {
        "id": "VpwD-bqO27PD",
        "colab": {
          "base_uri": "https://localhost:8080/"
        },
        "outputId": "6d79b506-ff57-4609-989c-ce7d81821da2"
      },
      "execution_count": null,
      "outputs": [
        {
          "output_type": "stream",
          "name": "stdout",
          "text": [
            "5\n",
            "10\n",
            "15\n",
            "-5\n",
            "12\n"
          ]
        }
      ]
    },
    {
      "cell_type": "markdown",
      "source": [
        "**2.1 Printing a singly linkled list values in reverse using iteration?**\n",
        "\n",
        "\n",
        "**Not Possible!**"
      ],
      "metadata": {
        "id": "gWKRCAGs87t2"
      }
    },
    {
      "cell_type": "markdown",
      "source": [
        "**2.2 Printing a singly linkled list values in reverse using recursion**"
      ],
      "metadata": {
        "id": "maQnX57M41LD"
      }
    },
    {
      "cell_type": "code",
      "source": [
        "def recursiveReversePrintList(head):\n",
        "  if head!=None:\n",
        "    recursiveReversePrintList(head.next)\n",
        "    print(head.val)\n",
        "\n",
        "recursiveReversePrintList(head)"
      ],
      "metadata": {
        "colab": {
          "base_uri": "https://localhost:8080/"
        },
        "id": "nxp7qW4QxV0T",
        "outputId": "c934aa65-2b45-4279-d740-7b5bd9a56cdd"
      },
      "execution_count": null,
      "outputs": [
        {
          "output_type": "stream",
          "name": "stdout",
          "text": [
            "12\n",
            "-5\n",
            "15\n",
            "10\n",
            "5\n"
          ]
        }
      ]
    },
    {
      "cell_type": "markdown",
      "source": [
        "**3.1 Calculation of exponenentiation without iteration/recursion**"
      ],
      "metadata": {
        "id": "cLR0eCaG5ZXr"
      }
    },
    {
      "cell_type": "code",
      "source": [
        "def exp(base,power):\n",
        "  return base**power\n",
        "\n",
        "print(exp(5,3))"
      ],
      "metadata": {
        "colab": {
          "base_uri": "https://localhost:8080/"
        },
        "id": "UDQ-CFPB6FPq",
        "outputId": "534b387c-3cee-4dba-a2dc-b549b906ef16"
      },
      "execution_count": null,
      "outputs": [
        {
          "output_type": "stream",
          "name": "stdout",
          "text": [
            "125\n"
          ]
        }
      ]
    },
    {
      "cell_type": "markdown",
      "source": [
        "**3.2 Calculation of exponenentiation using iteration**"
      ],
      "metadata": {
        "id": "9Sre4wUQ6St4"
      }
    },
    {
      "cell_type": "code",
      "source": [
        "def exp_iteration(base,power):\n",
        "  num=base\n",
        "  for i in range(power-1):\n",
        "    num=num*base\n",
        "  return num\n",
        "\n",
        "print(exp_iteration(5,3))"
      ],
      "metadata": {
        "colab": {
          "base_uri": "https://localhost:8080/"
        },
        "id": "CPHh5GIU6XeR",
        "outputId": "5025a532-cb04-4a47-fe4a-b8c38059d43d"
      },
      "execution_count": null,
      "outputs": [
        {
          "output_type": "stream",
          "name": "stdout",
          "text": [
            "125\n"
          ]
        }
      ]
    },
    {
      "cell_type": "markdown",
      "source": [
        "**3.3 Calculation of exponenentiation using recursion**"
      ],
      "metadata": {
        "id": "QPdpVkdh66j8"
      }
    },
    {
      "cell_type": "code",
      "source": [
        "def exp_recursion(base,power):\n",
        "  if (power==0):\n",
        "    return 1\n",
        "  else:\n",
        "    return base*exp_recursion(base,power-1)\n",
        "\n",
        "print(exp_recursion(5,3))"
      ],
      "metadata": {
        "colab": {
          "base_uri": "https://localhost:8080/"
        },
        "id": "JK0MRp6c6-4I",
        "outputId": "57727df8-12bd-4ce7-d389-1738caa899eb"
      },
      "execution_count": null,
      "outputs": [
        {
          "output_type": "stream",
          "name": "stdout",
          "text": [
            "125\n"
          ]
        }
      ]
    },
    {
      "cell_type": "markdown",
      "source": [
        "**4.1 Length of a linked list using iterations**"
      ],
      "metadata": {
        "id": "JUTPUiCKFPZ8"
      }
    },
    {
      "cell_type": "code",
      "source": [
        "def iterativeLinkedListLength(head):\n",
        "  length=0\n",
        "  while(head!=None):\n",
        "    length+=1\n",
        "    head=head.next\n",
        "  return length\n",
        "\n",
        "print(iterativeLinkedListLength(head))"
      ],
      "metadata": {
        "colab": {
          "base_uri": "https://localhost:8080/"
        },
        "id": "WS4jlN6GFVLG",
        "outputId": "ece01fe8-6ada-4de1-abcc-95d54fa67151"
      },
      "execution_count": null,
      "outputs": [
        {
          "output_type": "stream",
          "name": "stdout",
          "text": [
            "5\n"
          ]
        }
      ]
    },
    {
      "cell_type": "markdown",
      "source": [
        "**4.2 Length of a linked list using recursion**"
      ],
      "metadata": {
        "id": "a5OkwRZlGGAm"
      }
    },
    {
      "cell_type": "code",
      "source": [
        "def recursiveLinkedListLength(head):\n",
        "  if(head==None):\n",
        "    return 0\n",
        "  else:\n",
        "    return 1+recursiveLinkedListLength(head.next)\n",
        "\n",
        "print(recursiveLinkedListLength(head))"
      ],
      "metadata": {
        "colab": {
          "base_uri": "https://localhost:8080/"
        },
        "id": "g6oZ69MBGJrv",
        "outputId": "a038979d-2d11-42fc-b45a-2fbd23a640d7"
      },
      "execution_count": null,
      "outputs": [
        {
          "output_type": "stream",
          "name": "stdout",
          "text": [
            "5\n"
          ]
        }
      ]
    },
    {
      "cell_type": "markdown",
      "source": [
        "**5.1 Factorial Calculation using iteration**"
      ],
      "metadata": {
        "id": "47kW53Qs-ce5"
      }
    },
    {
      "cell_type": "code",
      "source": [
        "def iterative_factorial(num):\n",
        "  fac=1\n",
        "  for i in range(num,0,-1):\n",
        "    fac=fac*i\n",
        "  return fac\n",
        "\n",
        "print(iterative_factorial(5))"
      ],
      "metadata": {
        "colab": {
          "base_uri": "https://localhost:8080/"
        },
        "id": "mXzFgmAL-ik5",
        "outputId": "90fd51f0-e521-4aa4-afc5-ec4cf762847a"
      },
      "execution_count": null,
      "outputs": [
        {
          "output_type": "stream",
          "name": "stdout",
          "text": [
            "120\n"
          ]
        }
      ]
    },
    {
      "cell_type": "markdown",
      "source": [
        "**5.2 Factorial Calculation using recursion**"
      ],
      "metadata": {
        "id": "_SeLtsSO_R8w"
      }
    },
    {
      "cell_type": "code",
      "source": [
        "def recursive_factorial(num):\n",
        "  if (num==0):\n",
        "    return 1\n",
        "  else:\n",
        "    return num*recursive_factorial(num-1)\n",
        "\n",
        "print(recursive_factorial(5))"
      ],
      "metadata": {
        "colab": {
          "base_uri": "https://localhost:8080/"
        },
        "id": "pQYy4H9E_VCw",
        "outputId": "bc08f3f5-327c-4c7f-a4b2-4d13f5cd4e69"
      },
      "execution_count": null,
      "outputs": [
        {
          "output_type": "stream",
          "name": "stdout",
          "text": [
            "120\n"
          ]
        }
      ]
    },
    {
      "cell_type": "markdown",
      "source": [
        "**6.1 First nth Fibonacci number printing using iteration**"
      ],
      "metadata": {
        "id": "O_FT_r79_40W"
      }
    },
    {
      "cell_type": "code",
      "source": [
        "def iterative_fibonacci(num):\n",
        "  p= 0\n",
        "  q= 1\n",
        "  print(p)\n",
        "  print(q)\n",
        "  for i in range(num-2):\n",
        "    r=p+q\n",
        "    print(r)\n",
        "    p=q\n",
        "    q=r\n",
        "\n",
        "iterative_fibonacci(8)"
      ],
      "metadata": {
        "colab": {
          "base_uri": "https://localhost:8080/"
        },
        "id": "ycome0CZAAtN",
        "outputId": "3ab2bc65-d419-434c-c627-8b23d170fe7e"
      },
      "execution_count": null,
      "outputs": [
        {
          "output_type": "stream",
          "name": "stdout",
          "text": [
            "0\n",
            "1\n",
            "1\n",
            "2\n",
            "3\n",
            "5\n",
            "8\n",
            "13\n"
          ]
        }
      ]
    },
    {
      "cell_type": "markdown",
      "source": [
        "**6.2 First nth Fibonacci number printing using recursion**"
      ],
      "metadata": {
        "id": "oswftXx-A5Bb"
      }
    },
    {
      "cell_type": "code",
      "source": [
        "def recursive_fibonacci(num):\n",
        "  if (num==0 or num==1):\n",
        "    return num\n",
        "  else:\n",
        "    return recursive_fibonacci(num-1)+recursive_fibonacci(num-2)\n",
        "\n",
        "for i in range(8):\n",
        "  print(recursive_fibonacci(i))\n",
        "\n",
        "\"\"\"This recursive_fibonacci method can find one fibonacci number\n",
        "at a time. That is why we are using a loop to call it repeatedly\"\"\""
      ],
      "metadata": {
        "colab": {
          "base_uri": "https://localhost:8080/"
        },
        "id": "VQG5L75TA8C9",
        "outputId": "67efbb28-5848-4cb2-eae9-8c49ee5a7fe5"
      },
      "execution_count": null,
      "outputs": [
        {
          "output_type": "stream",
          "name": "stdout",
          "text": [
            "0\n",
            "1\n",
            "1\n",
            "2\n",
            "3\n",
            "5\n",
            "8\n",
            "13\n"
          ]
        }
      ]
    },
    {
      "cell_type": "markdown",
      "source": [
        "7.1 Print the element of the last node using iteration [HW]"
      ],
      "metadata": {
        "id": "XuZPzxgpQ-4g"
      }
    },
    {
      "cell_type": "code",
      "source": [
        "def last_element_iterative(head):\n",
        "  #Your Code Here\n",
        "  if (head.next==None):\n",
        "    print(head.val)\n",
        "  else:\n",
        "    last_element_iterative(head.next)\n",
        "\n",
        "last_element_iterative(head)"
      ],
      "metadata": {
        "colab": {
          "base_uri": "https://localhost:8080/"
        },
        "id": "96FJAc1FQ_1W",
        "outputId": "2e5d4a1e-dded-4041-c7b7-a3fddb0a0854"
      },
      "execution_count": null,
      "outputs": [
        {
          "output_type": "stream",
          "name": "stdout",
          "text": [
            "12\n"
          ]
        }
      ]
    },
    {
      "cell_type": "markdown",
      "source": [
        "7.2 Print the element of the last node using recursion [HW]"
      ],
      "metadata": {
        "id": "lDEdy4T_RAtn"
      }
    },
    {
      "cell_type": "code",
      "source": [
        "def last_element_recursive(head):\n",
        "  #Your Code Here\n",
        "  if (head==None):\n",
        "    pass\n",
        "  else:\n",
        "    if head.next==None:\n",
        "      return head.val\n",
        "    else:\n",
        "      return last_element_recursive(head.next)\n",
        "\n",
        "print(last_element_recursive(head))"
      ],
      "metadata": {
        "colab": {
          "base_uri": "https://localhost:8080/"
        },
        "id": "Cx9BnFu2RCbP",
        "outputId": "84a27f40-722c-4799-e4d4-c6bfc56d2087"
      },
      "execution_count": null,
      "outputs": [
        {
          "output_type": "stream",
          "name": "stdout",
          "text": [
            "12\n"
          ]
        }
      ]
    },
    {
      "cell_type": "markdown",
      "source": [
        "8.1 Find the maximum number from a list using iteration"
      ],
      "metadata": {
        "id": "3gP_BibCH0wd"
      }
    },
    {
      "cell_type": "code",
      "source": [
        "def max_iterative(list1):\n",
        "  max=list1[0]\n",
        "  for i in list1:\n",
        "    if i>max:\n",
        "      max=i\n",
        "  return max\n",
        "\n",
        "x= max_iterative([5,2,-3,1,0,8,7])\n",
        "print(f\"Maximum: {x}\")"
      ],
      "metadata": {
        "colab": {
          "base_uri": "https://localhost:8080/"
        },
        "id": "zRRTzxbvH7ko",
        "outputId": "b50ad3ed-0539-4e4f-db0f-b4d0824f2309"
      },
      "execution_count": null,
      "outputs": [
        {
          "output_type": "stream",
          "name": "stdout",
          "text": [
            "Maximum: 8\n"
          ]
        }
      ]
    },
    {
      "cell_type": "markdown",
      "source": [
        "8.2 Find the maximum number from a list using recursion"
      ],
      "metadata": {
        "id": "0CP4tbeMKqtY"
      }
    },
    {
      "cell_type": "code",
      "source": [
        "def max_recursive(list1, n):\n",
        "  if (n == 1):\n",
        "    return list1[0]\n",
        "  return max(list1[n - 1], max_recursive(list1, n - 1))\n",
        "\n",
        "x= max_recursive([5,2,-3,1,0,8,7],7)\n",
        "print(f\"Maximum: {x}\")"
      ],
      "metadata": {
        "colab": {
          "base_uri": "https://localhost:8080/"
        },
        "id": "gKm9Edn8IpM-",
        "outputId": "cd633394-3770-4855-fbc8-cd0c5e9ac07c"
      },
      "execution_count": null,
      "outputs": [
        {
          "output_type": "stream",
          "name": "stdout",
          "text": [
            "Maximum: 8\n"
          ]
        }
      ]
    },
    {
      "cell_type": "markdown",
      "source": [
        "9.1 Find the sum of all even numbers of a list using iteration"
      ],
      "metadata": {
        "id": "kLgBAo0DKuKQ"
      }
    },
    {
      "cell_type": "code",
      "source": [
        "def sum_iterative(list1):\n",
        "  sum=0\n",
        "  for i in list1:\n",
        "    if i%2==0:\n",
        "      sum+=i\n",
        "  return sum\n",
        "\n",
        "x= sum_iterative([5,2,-3,1,0,8,7])\n",
        "print(f\"Summation: {x}\")"
      ],
      "metadata": {
        "colab": {
          "base_uri": "https://localhost:8080/"
        },
        "id": "uJHNhiElLu8Q",
        "outputId": "07bc3291-5d04-4a9f-989c-d089dee2f71b"
      },
      "execution_count": null,
      "outputs": [
        {
          "output_type": "stream",
          "name": "stdout",
          "text": [
            "Summation: 10\n"
          ]
        }
      ]
    },
    {
      "cell_type": "markdown",
      "source": [
        "9.2 Find the sum of all even numbers of a list using recursion"
      ],
      "metadata": {
        "id": "dZJ1IsFhMCsa"
      }
    },
    {
      "cell_type": "code",
      "source": [
        "def sum_recursive(list1):\n",
        "  if len(list1)!=1:\n",
        "    if list1[0]%2==0:\n",
        "      return list1[0]+sum_iterative(list1[1:])\n",
        "    else:\n",
        "      return 0+sum_iterative(list1[1:])\n",
        "\n",
        "\n",
        "x= sum_recursive([5,2,-3,1,0,8,7])\n",
        "print(f\"Summation: {x}\")"
      ],
      "metadata": {
        "colab": {
          "base_uri": "https://localhost:8080/"
        },
        "id": "C8dJ22-FLCzp",
        "outputId": "cfb80ae9-94c5-4c5f-bde8-78a27e1217ac"
      },
      "execution_count": null,
      "outputs": [
        {
          "output_type": "stream",
          "name": "stdout",
          "text": [
            "Summation: 10\n"
          ]
        }
      ]
    },
    {
      "cell_type": "markdown",
      "source": [
        "10.1 Decimal to Binary Conversion using iteration [HW]"
      ],
      "metadata": {
        "id": "zXgzJyP4RfxY"
      }
    },
    {
      "cell_type": "code",
      "source": [
        "def dec_to_bin_iterative(num):\n",
        "\n",
        "\n",
        "\n",
        "\n",
        "\n",
        "\n",
        "\n",
        "dec_to_bin_iterative(10)"
      ],
      "metadata": {
        "id": "4ELQYvzHRmat",
        "colab": {
          "base_uri": "https://localhost:8080/"
        },
        "outputId": "31c8a60c-d24e-4535-ae96-bb7a78ec8880"
      },
      "execution_count": null,
      "outputs": [
        {
          "output_type": "stream",
          "name": "stdout",
          "text": [
            "1010\n"
          ]
        }
      ]
    },
    {
      "cell_type": "markdown",
      "source": [
        "10.2 Decimal to Binary Conversion using recursion [HW]"
      ],
      "metadata": {
        "id": "qctYQNCyRoO5"
      }
    },
    {
      "cell_type": "code",
      "source": [
        "def dec_to_bin_recursive(n):\n",
        "   if n > 1:\n",
        "       dec_to_bin_recursive(n//2)\n",
        "   print(n % 2,end = '')\n",
        "\n",
        "dec_to_bin_recursive(10)"
      ],
      "metadata": {
        "id": "bwmMYdQFRqZr",
        "colab": {
          "base_uri": "https://localhost:8080/"
        },
        "outputId": "95894bbb-5bb7-45ea-b438-fce06e079c43"
      },
      "execution_count": null,
      "outputs": [
        {
          "output_type": "stream",
          "name": "stdout",
          "text": [
            "1010"
          ]
        }
      ]
    },
    {
      "cell_type": "markdown",
      "source": [
        "13.1 Binary Search using iteration"
      ],
      "metadata": {
        "id": "vWedtuJUL9mn"
      }
    },
    {
      "cell_type": "code",
      "source": [
        "def binary_search_iterative(list1, elem):\n",
        "  left=0\n",
        "  right=len(list1)-1\n",
        "  for i in range(len(list1)//2):\n",
        "    mid=(left+right)//2\n",
        "    if elem>list1[mid]:\n",
        "      left= mid+1\n",
        "    elif elem<list1[mid]:\n",
        "      right= mid\n",
        "    else:\n",
        "      return f\"Element found at index: {mid}\"\n",
        "  return f\"Element not found\"\n",
        "\n",
        "print(binary_search_iterative([5,2,-3,1,0,8,7],8))"
      ],
      "metadata": {
        "colab": {
          "base_uri": "https://localhost:8080/"
        },
        "id": "Cse0nswdMA74",
        "outputId": "a323fc26-2c15-4144-bad6-20857c2f64c4"
      },
      "execution_count": null,
      "outputs": [
        {
          "output_type": "stream",
          "name": "stdout",
          "text": [
            "Element found at index: 5\n"
          ]
        }
      ]
    },
    {
      "cell_type": "markdown",
      "source": [
        "13.2 Binary Search using recursion"
      ],
      "metadata": {
        "id": "WMukk8X2QLHZ"
      }
    },
    {
      "cell_type": "code",
      "source": [
        "def binary_search_recursive(list1, elem, left, right):\n",
        "  mid=(left+right)//2\n",
        "  if elem>list1[mid]:\n",
        "    return binary_search_recursive(list1, elem, mid+1, right)\n",
        "  elif elem<list1[mid]:\n",
        "    return binary_search_recursive(list1, elem, left, mid)\n",
        "  elif elem==list1[mid]:\n",
        "    return f\"Element found at index: {mid}\"\n",
        "  elif left==right and elem!=list1[mid]:\n",
        "    return f\"Element not found\"\n",
        "\n",
        "print(binary_search_recursive([5,2,-3,1,0,8,7],8,0,6))"
      ],
      "metadata": {
        "colab": {
          "base_uri": "https://localhost:8080/"
        },
        "id": "jtU31U7aQN-m",
        "outputId": "e5d74861-5b46-4e65-8b5e-a37ed584a9db"
      },
      "execution_count": null,
      "outputs": [
        {
          "output_type": "stream",
          "name": "stdout",
          "text": [
            "Element found at index: 5\n"
          ]
        }
      ]
    },
    {
      "cell_type": "markdown",
      "source": [
        "11. Add all the elements of a linked list using recursion"
      ],
      "metadata": {
        "id": "dxx4xpbeXLK1"
      }
    },
    {
      "cell_type": "code",
      "source": [
        "def add_elem_recursive(head):\n",
        "\n",
        "\n",
        "\n",
        "\n",
        "\n",
        "\n",
        "print(add_elem_recursive(head))"
      ],
      "metadata": {
        "id": "qSZDd6kqYYeK"
      },
      "execution_count": null,
      "outputs": []
    },
    {
      "cell_type": "markdown",
      "source": [
        "12. Find the node with maximum element and\n",
        "\n",
        "print the element using recursion"
      ],
      "metadata": {
        "id": "cQp7aayzTJj5"
      }
    },
    {
      "cell_type": "code",
      "source": [
        "def max_elem_recursive(head):\n",
        "\n",
        "\n",
        "\n",
        "\n",
        "\n",
        "\n",
        "print(max_elem_recursive(head))"
      ],
      "metadata": {
        "id": "WDXFFzsUaTZ9"
      },
      "execution_count": null,
      "outputs": []
    },
    {
      "cell_type": "markdown",
      "source": [
        "14. Reverse print a list using recursion"
      ],
      "metadata": {
        "id": "3wkNLDdaTV7y"
      }
    },
    {
      "cell_type": "markdown",
      "source": [
        "15. Selection sort of a list using recursion"
      ],
      "metadata": {
        "id": "s0L-BCV6TqZm"
      }
    },
    {
      "cell_type": "markdown",
      "source": [
        "16. Bubble sort of a list using recursion"
      ],
      "metadata": {
        "id": "hDmXq2hLTwfl"
      }
    },
    {
      "cell_type": "markdown",
      "source": [
        "17. Insertion sort of a list using recursion"
      ],
      "metadata": {
        "id": "j7XEPKjuT0bc"
      }
    },
    {
      "cell_type": "markdown",
      "source": [
        "14.1 Ternary search using iteration"
      ],
      "metadata": {
        "id": "fDHmS63xUmPY"
      }
    },
    {
      "cell_type": "code",
      "source": [
        "def binary_search_iterative(list1, elem):\n",
        "  left=0\n",
        "  right=len(list1)-1\n",
        "  for i in range(len(list1)//2):\n",
        "    mid1 = left + (right-left)//3\n",
        "    mid2 = right - (right-left)//3\n",
        "    if elem>list1[mid1]:\n",
        "      left= mid1+1\n",
        "    elif elem<list1[mid2]:\n",
        "      right= mid2-1\n",
        "    elif (elem==list1[mid1]):\n",
        "      return f\"Element found at index: {mid1}\"\n",
        "    elif (elem==list1[mid2]):\n",
        "      return f\"Element found at index: {mid2}\"\n",
        "  return f\"Element not found\"\n",
        "\n",
        "print(binary_search_iterative([5,2,-3,1,0,8,7],8))"
      ],
      "metadata": {
        "colab": {
          "base_uri": "https://localhost:8080/"
        },
        "id": "ShJjTl9pbfOW",
        "outputId": "03fd97ca-203a-4bdb-cafb-80bed383db59"
      },
      "execution_count": null,
      "outputs": [
        {
          "output_type": "stream",
          "name": "stdout",
          "text": [
            "Element found at index: 5\n"
          ]
        }
      ]
    },
    {
      "cell_type": "markdown",
      "source": [
        "14.2 Ternary search using recursion [HW]"
      ],
      "metadata": {
        "id": "Q8uOHka_bgC2"
      }
    },
    {
      "cell_type": "code",
      "source": [
        "def ternary_search_recursive(list1, elem, left, right):\n",
        "\n",
        "\n",
        "\n",
        "\n",
        "\n",
        "\n",
        "\n",
        "\n",
        "\n",
        "\n",
        "\n",
        "\n",
        "\n",
        "\n",
        "\n",
        "print(binary_search_recursive([5,2,-3,1,0,8,7],8))"
      ],
      "metadata": {
        "colab": {
          "base_uri": "https://localhost:8080/"
        },
        "id": "FXmZwTxdbif_",
        "outputId": "dc3dbe43-2723-418d-ebcf-333e0a91e650"
      },
      "execution_count": null,
      "outputs": [
        {
          "output_type": "stream",
          "name": "stdout",
          "text": [
            "Element found at index: 5\n"
          ]
        }
      ]
    },
    {
      "cell_type": "markdown",
      "source": [
        "13. Create a node with an element given and\n",
        "\n",
        "add it at the end of a linked list"
      ],
      "metadata": {
        "id": "IbpOcWKfokaA"
      }
    },
    {
      "cell_type": "code",
      "source": [
        "def addNode(head, elem):\n",
        "  if (head.next==None):\n",
        "    newNode= Node(elem, None)\n",
        "    head.next= newNode\n",
        "  else:\n",
        "    addNode(head.next, elem)\n",
        "\n",
        "addNode(head, 50)\n"
      ],
      "metadata": {
        "colab": {
          "base_uri": "https://localhost:8080/",
          "height": 380
        },
        "id": "UZPJVNoToxXC",
        "outputId": "84291853-675e-4393-f585-6f6b2748695c"
      },
      "execution_count": null,
      "outputs": [
        {
          "output_type": "error",
          "ename": "RecursionError",
          "evalue": "ignored",
          "traceback": [
            "\u001b[0;31m---------------------------------------------------------------------------\u001b[0m",
            "\u001b[0;31mRecursionError\u001b[0m                            Traceback (most recent call last)",
            "\u001b[0;32m<ipython-input-12-3b72fae7eca8>\u001b[0m in \u001b[0;36m<module>\u001b[0;34m\u001b[0m\n\u001b[1;32m      6\u001b[0m     \u001b[0maddNode\u001b[0m\u001b[0;34m(\u001b[0m\u001b[0mhead\u001b[0m\u001b[0;34m.\u001b[0m\u001b[0mnext\u001b[0m\u001b[0;34m,\u001b[0m \u001b[0melem\u001b[0m\u001b[0;34m)\u001b[0m\u001b[0;34m\u001b[0m\u001b[0;34m\u001b[0m\u001b[0m\n\u001b[1;32m      7\u001b[0m \u001b[0;34m\u001b[0m\u001b[0m\n\u001b[0;32m----> 8\u001b[0;31m \u001b[0maddNode\u001b[0m\u001b[0;34m(\u001b[0m\u001b[0mhead\u001b[0m\u001b[0;34m,\u001b[0m \u001b[0;36m50\u001b[0m\u001b[0;34m)\u001b[0m\u001b[0;34m\u001b[0m\u001b[0;34m\u001b[0m\u001b[0m\n\u001b[0m",
            "\u001b[0;32m<ipython-input-12-3b72fae7eca8>\u001b[0m in \u001b[0;36maddNode\u001b[0;34m(head, elem)\u001b[0m\n\u001b[1;32m      4\u001b[0m     \u001b[0mhead\u001b[0m\u001b[0;34m.\u001b[0m\u001b[0mnext\u001b[0m\u001b[0;34m=\u001b[0m \u001b[0mnewNode\u001b[0m\u001b[0;34m\u001b[0m\u001b[0;34m\u001b[0m\u001b[0m\n\u001b[1;32m      5\u001b[0m   \u001b[0;32melse\u001b[0m\u001b[0;34m:\u001b[0m\u001b[0;34m\u001b[0m\u001b[0;34m\u001b[0m\u001b[0m\n\u001b[0;32m----> 6\u001b[0;31m     \u001b[0maddNode\u001b[0m\u001b[0;34m(\u001b[0m\u001b[0mhead\u001b[0m\u001b[0;34m.\u001b[0m\u001b[0mnext\u001b[0m\u001b[0;34m,\u001b[0m \u001b[0melem\u001b[0m\u001b[0;34m)\u001b[0m\u001b[0;34m\u001b[0m\u001b[0;34m\u001b[0m\u001b[0m\n\u001b[0m\u001b[1;32m      7\u001b[0m \u001b[0;34m\u001b[0m\u001b[0m\n\u001b[1;32m      8\u001b[0m \u001b[0maddNode\u001b[0m\u001b[0;34m(\u001b[0m\u001b[0mhead\u001b[0m\u001b[0;34m,\u001b[0m \u001b[0;36m50\u001b[0m\u001b[0;34m)\u001b[0m\u001b[0;34m\u001b[0m\u001b[0;34m\u001b[0m\u001b[0m\n",
            "... last 1 frames repeated, from the frame below ...\n",
            "\u001b[0;32m<ipython-input-12-3b72fae7eca8>\u001b[0m in \u001b[0;36maddNode\u001b[0;34m(head, elem)\u001b[0m\n\u001b[1;32m      4\u001b[0m     \u001b[0mhead\u001b[0m\u001b[0;34m.\u001b[0m\u001b[0mnext\u001b[0m\u001b[0;34m=\u001b[0m \u001b[0mnewNode\u001b[0m\u001b[0;34m\u001b[0m\u001b[0;34m\u001b[0m\u001b[0m\n\u001b[1;32m      5\u001b[0m   \u001b[0;32melse\u001b[0m\u001b[0;34m:\u001b[0m\u001b[0;34m\u001b[0m\u001b[0;34m\u001b[0m\u001b[0m\n\u001b[0;32m----> 6\u001b[0;31m     \u001b[0maddNode\u001b[0m\u001b[0;34m(\u001b[0m\u001b[0mhead\u001b[0m\u001b[0;34m.\u001b[0m\u001b[0mnext\u001b[0m\u001b[0;34m,\u001b[0m \u001b[0melem\u001b[0m\u001b[0;34m)\u001b[0m\u001b[0;34m\u001b[0m\u001b[0;34m\u001b[0m\u001b[0m\n\u001b[0m\u001b[1;32m      7\u001b[0m \u001b[0;34m\u001b[0m\u001b[0m\n\u001b[1;32m      8\u001b[0m \u001b[0maddNode\u001b[0m\u001b[0;34m(\u001b[0m\u001b[0mhead\u001b[0m\u001b[0;34m,\u001b[0m \u001b[0;36m50\u001b[0m\u001b[0;34m)\u001b[0m\u001b[0;34m\u001b[0m\u001b[0;34m\u001b[0m\u001b[0m\n",
            "\u001b[0;31mRecursionError\u001b[0m: maximum recursion depth exceeded in comparison"
          ]
        }
      ]
    },
    {
      "cell_type": "markdown",
      "source": [
        "14. Convert a linear linked list into circular using recursion"
      ],
      "metadata": {
        "id": "sGAtuE6ssgsa"
      }
    },
    {
      "cell_type": "code",
      "source": [
        "def lin_to_cir(head, n):\n",
        "  if n.next==None:\n",
        "    n.next=head\n",
        "  else:\n",
        "    lin_to_cir(head, n.next)\n",
        "\n",
        "lin_to_cir(head, head)\n"
      ],
      "metadata": {
        "id": "SGJDVnrrsLy1"
      },
      "execution_count": null,
      "outputs": []
    },
    {
      "cell_type": "markdown",
      "source": [
        "15. Print a circular linked list recursively"
      ],
      "metadata": {
        "id": "ApbjPwWluD4q"
      }
    },
    {
      "cell_type": "code",
      "source": [
        "def print_cir_ll_recursive(head, n, i):\n",
        "  if (head==n and i==0) or head!=n:\n",
        "    print(n.val)\n",
        "    print_cir_ll_recursive(head, n.next, i+1)\n",
        "\n",
        "print_cir_ll_recursive(head, head, 0)"
      ],
      "metadata": {
        "colab": {
          "base_uri": "https://localhost:8080/"
        },
        "id": "0GeQMzhkuc50",
        "outputId": "3fc38522-f57b-487f-a1a7-9b7b46de7638"
      },
      "execution_count": null,
      "outputs": [
        {
          "output_type": "stream",
          "name": "stdout",
          "text": [
            "5\n",
            "10\n",
            "15\n",
            "-5\n",
            "12\n"
          ]
        }
      ]
    },
    {
      "cell_type": "markdown",
      "source": [
        "16. Check whether a string is a palindrome or not recursively"
      ],
      "metadata": {
        "id": "D1FAETPgwJ0B"
      }
    },
    {
      "cell_type": "code",
      "source": [
        "def palindrome(s1, i, j):\n",
        "  if (s1[i]==s1[j]) and i<j:\n",
        "    palindrome(s1, i+1, j-1)\n",
        "  elif (s1[i]!=s1[j]):\n",
        "    print(\"Not a palindrome\")\n",
        "  elif i>=j:\n",
        "    print(\"Palindrome\")\n",
        "\n",
        "s1=\"RACECAR\"\n",
        "palindrome(s1, 0, len(s1)-1)"
      ],
      "metadata": {
        "colab": {
          "base_uri": "https://localhost:8080/"
        },
        "id": "J-WqDWwMwqLz",
        "outputId": "bb26ca41-47d3-4de3-f36e-f2819370f886"
      },
      "execution_count": null,
      "outputs": [
        {
          "output_type": "stream",
          "name": "stdout",
          "text": [
            "Palindrome\n"
          ]
        }
      ]
    },
    {
      "cell_type": "markdown",
      "source": [
        "17. Count the number of vowels in a string recursively"
      ],
      "metadata": {
        "id": "S67T2rUIxwPW"
      }
    },
    {
      "cell_type": "code",
      "source": [
        "def vowels(s1,i):\n",
        "  if (i==len(s1)):\n",
        "    return 0\n",
        "  elif s1[i] in \"AEIOUaeiou\":\n",
        "    return 1+vowels(s1,i+1)\n",
        "  elif s1[i] not in \"AEIOUaeiou\":\n",
        "    return vowels(s1,i+1)\n",
        "\n",
        "print(vowels(\"YOOO!damnthatguy\",0))"
      ],
      "metadata": {
        "colab": {
          "base_uri": "https://localhost:8080/"
        },
        "id": "hXZTyIVhyNi7",
        "outputId": "ed60609c-15da-4e77-815d-858f5304e809"
      },
      "execution_count": null,
      "outputs": [
        {
          "output_type": "stream",
          "name": "stdout",
          "text": [
            "6\n"
          ]
        }
      ]
    },
    {
      "cell_type": "markdown",
      "source": [
        "18. Convert all the lower cases in a\n",
        "\n",
        "string into upper case using recursion"
      ],
      "metadata": {
        "id": "g1h1j4JlzZgN"
      }
    },
    {
      "cell_type": "code",
      "source": [
        "def lower_to_upper(s1,i):\n",
        "  if i==len(s1):\n",
        "    return \"\"\n",
        "  elif (97<=ord(s1[i])<=122):\n",
        "    return chr(ord(s1[i])-32) + lower_to_upper(s1, i+1)\n",
        "  else:\n",
        "    return s1[i]+ lower_to_upper(s1,i+1)\n",
        "\n",
        "print(lower_to_upper(\"Yo! Whassup?\", 0))"
      ],
      "metadata": {
        "id": "qkCsliDGzYve",
        "colab": {
          "base_uri": "https://localhost:8080/"
        },
        "outputId": "32f6b5fe-b5d2-4417-8fbf-36026b556c8d"
      },
      "execution_count": null,
      "outputs": [
        {
          "output_type": "stream",
          "name": "stdout",
          "text": [
            "YO! WHASSUP?\n"
          ]
        }
      ]
    },
    {
      "cell_type": "code",
      "source": [
        "def mA(n):\n",
        "  if(n>0):\n",
        "    print(n)\n",
        "    mA(n-1)\n",
        "\n",
        "mA(10)"
      ],
      "metadata": {
        "colab": {
          "base_uri": "https://localhost:8080/"
        },
        "id": "MVjjRQ7H2oSu",
        "outputId": "42bbc415-0d43-4705-cf16-35f302a2e14c"
      },
      "execution_count": null,
      "outputs": [
        {
          "output_type": "stream",
          "name": "stdout",
          "text": [
            "10\n",
            "9\n",
            "8\n",
            "7\n",
            "6\n",
            "5\n",
            "4\n",
            "3\n",
            "2\n",
            "1\n"
          ]
        }
      ]
    }
  ]
}