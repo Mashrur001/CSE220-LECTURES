{
  "nbformat": 4,
  "nbformat_minor": 0,
  "metadata": {
    "colab": {
      "provenance": [],
      "include_colab_link": true
    },
    "kernelspec": {
      "name": "python3",
      "display_name": "Python 3"
    },
    "language_info": {
      "name": "python"
    }
  },
  "cells": [
    {
      "cell_type": "markdown",
      "metadata": {
        "id": "view-in-github",
        "colab_type": "text"
      },
      "source": [
        "<a href=\"https://colab.research.google.com/github/Mashrur001/CSE220-LECTURES-/blob/main/Multi_Dimentional_Arrays.ipynb\" target=\"_parent\"><img src=\"https://colab.research.google.com/assets/colab-badge.svg\" alt=\"Open In Colab\"/></a>"
      ]
    },
    {
      "cell_type": "markdown",
      "source": [
        "# **Lecture 2: Multi-Dimentional Arrays**\n",
        "## [CSE220 | Data Structures | STV/SFT]"
      ],
      "metadata": {
        "id": "e597YZn_AyJP"
      }
    },
    {
      "cell_type": "code",
      "source": [
        "import numpy as np\n",
        "arr= np.array([[0, 0 , 0],[2, 3, 4]])\n",
        "# arr= np.array([1,2,3])\n",
        "arr2= np.zeros((3,5,2), dtype= int)\n",
        "print(arr)\n",
        "print(arr2)"
      ],
      "metadata": {
        "colab": {
          "base_uri": "https://localhost:8080/"
        },
        "id": "hKPk_rP6n2tV",
        "outputId": "bdcba1c3-1333-4e95-9047-0dba4210a997"
      },
      "execution_count": null,
      "outputs": [
        {
          "output_type": "stream",
          "name": "stdout",
          "text": [
            "[[0 0 0]\n",
            " [2 3 4]]\n",
            "[[[[0 0 0 0]\n",
            "   [0 0 0 0]]\n",
            "\n",
            "  [[0 0 0 0]\n",
            "   [0 0 0 0]]\n",
            "\n",
            "  [[0 0 0 0]\n",
            "   [0 0 0 0]]\n",
            "\n",
            "  [[0 0 0 0]\n",
            "   [0 0 0 0]]\n",
            "\n",
            "  [[0 0 0 0]\n",
            "   [0 0 0 0]]]\n",
            "\n",
            "\n",
            " [[[0 0 0 0]\n",
            "   [0 0 0 0]]\n",
            "\n",
            "  [[0 0 0 0]\n",
            "   [0 0 0 0]]\n",
            "\n",
            "  [[0 0 0 0]\n",
            "   [0 0 0 0]]\n",
            "\n",
            "  [[0 0 0 0]\n",
            "   [0 0 0 0]]\n",
            "\n",
            "  [[0 0 0 0]\n",
            "   [0 0 0 0]]]\n",
            "\n",
            "\n",
            " [[[0 0 0 0]\n",
            "   [0 0 0 0]]\n",
            "\n",
            "  [[0 0 0 0]\n",
            "   [0 0 0 0]]\n",
            "\n",
            "  [[0 0 0 0]\n",
            "   [0 0 0 0]]\n",
            "\n",
            "  [[0 0 0 0]\n",
            "   [0 0 0 0]]\n",
            "\n",
            "  [[0 0 0 0]\n",
            "   [0 0 0 0]]]]\n"
          ]
        }
      ]
    },
    {
      "cell_type": "markdown",
      "source": [
        "#A.  Answer the Following Questions:\n",
        "1. Which languages support multi-dimentional arrays and which do not? </br>\n",
        "\n",
        "> **Answer:** Java, C, C++, JavaScript etc. do not support mult-dimentional arrays to be created dynamically (which means during program runtime). We can however, implement a multi-dimentional array in these languages but this is actually an array of arrays where each of the index of the original array holds the reference to another array. </br>\n",
        "On the other hand, Python supports creation of pure multidimentional arrays.</br>\n",
        "\n",
        "2. What is the difference between array of arrays and multi-dimentional arrays? </br>\n",
        "\n",
        "> **Answer:** In array of arrays, each of the index of the original array holds the reference to another array. </br>In multidimentional arrays, each of the index of the array holds a value and no other refernece to any other lower dimension arrays. </br>\n",
        "\n",
        "\n",
        "\n",
        "3. How are multi-dimentional arrays stored in memory?\n",
        "\n",
        "> **Answer:** Multi-dimentional arrays are stored in two ways depending on which programming language is being used:\n",
        "\n",
        "\n",
        "> *   Increasing the final dimension’s index first and progressively move to earlier dimensions, this is called the Row-Major Ordering. For example, Java and C take this approach.\n",
        "\n",
        "> *   Increasing the starting dimension’s index first and progressively move to later dimensions, this is called the Column-Major Ordering. For example, FORTRAN takes this approach.\n",
        "\n",
        "4. Write the equation to find linear index of a cell from a 4-dimentional array:\n",
        "\n",
        "> **Answer:** If the dimensions of the array are M * N * O * P, and we are accessing the cell [w][x][y][z] from the array:</br>\n",
        "Linear index= w * (N * O * P) + x * (O * P) + y * P + z\n",
        "\n",
        "5. Write the equation and find linear index of a cell from a multi-dimentional array if:\n",
        "\n",
        "> *   Dimensions 3 * 4 * 2 and cell index [2][3][1]. **Answer:**\n",
        "*   Dimensions 4 * 4 * 2 and cell index [3][4][1]. **Answer:**\n",
        "*   Dimensions 6 * 4 * 2 * 5 and cell index [4][3][0][3]. **Answer:**\n",
        "\n",
        "6. Suppose a linear array of length 128 actually stores a 3D array of dimensions 4 * 4 * 8. What are the multidimensional indexes of the element stored at location 111? Remember that indexing starts from 0 in each dimension.\n",
        "\n",
        "> **Answer:** [3][1][7]\n",
        "\n",
        "\n",
        "\n",
        "7. Suppose a linear array of length 72 actually stores a 4D array of dimensions 3 * 3 * 2 * 4. What are the multidimensional indexes of the element stored at location 69? Remember that indexing starts from 0 in each dimension.\n",
        "\n",
        "> **Answer:**\n",
        "\n",
        "\n",
        "8. What is the difference between multi-dimensional array and matrix?\n",
        "\n",
        "> **Answer:** Multi-dimensional Arrays can have any number of dimensions, but a matrix will have only have 2 dimensions.\n",
        "\n",
        "9. How to determine whether two matrices can be added/subtracted or multiplied?\n",
        "\n",
        "> **Answer:**\n",
        "* For Addition/Subtraction, both matrices must be identical in terms of dimensions. For example, only two 2 * 2 or two 3 * 4 matrices can be added or subtracted. But one 2 * 3 and one 3 * 3 matrices can not be added or subtracted.\n",
        "* For Multiplication, the number of column of the first matrix must be equal to the number of rows of the second matrix. For example a 2 * 3 matrix can be multiplied with a 3 * 5 matrix.\n",
        "\n",
        "\n",
        "\n",
        "10. What are the ways of iterating 2D arrays or matrix?\n",
        "\n",
        "> **Answer:** Two ways of iteration: Row-wise and Column-wise\n",
        "* Row-Wise: The outer loop will be associated with the number of rows and the inner loop with the number of columns\n",
        "*Column-Wise: The outer loop will be associated with the number of columns and the inner loop with the number of rows"
      ],
      "metadata": {
        "id": "fSpj7fOzBMbN"
      }
    },
    {
      "cell_type": "markdown",
      "source": [
        "# B. Initialization of a Multidimensional Array"
      ],
      "metadata": {
        "id": "Ag8Ez_b0aSgd"
      }
    },
    {
      "cell_type": "code",
      "source": [
        "import numpy as np\n",
        "\n",
        "#first way\n",
        "arr1 = np.array([[1, 2, 3],[5, 6, 7]])\n",
        "print(arr1)\n",
        "print(type(arr1))\n",
        "\n",
        "#second way\n",
        "arr2 = np.zeros((4,2), dtype=int)\n",
        "print(arr2)\n",
        "print(type(arr2))"
      ],
      "metadata": {
        "colab": {
          "base_uri": "https://localhost:8080/"
        },
        "id": "U0eNC1gLZvYc",
        "outputId": "6557da57-5de1-4f14-da10-f8cc6fd06fd5"
      },
      "execution_count": null,
      "outputs": [
        {
          "output_type": "stream",
          "name": "stdout",
          "text": [
            "[[1 2 3]\n",
            " [5 6 7]]\n",
            "<class 'numpy.ndarray'>\n",
            "[[0 0]\n",
            " [0 0]\n",
            " [0 0]\n",
            " [0 0]]\n",
            "<class 'numpy.ndarray'>\n"
          ]
        }
      ]
    },
    {
      "cell_type": "markdown",
      "source": [
        "# C. Introducing New Property of Multi-Dimensional Array: Shape\n",
        "Using shape we can get the dimensions of any Python object including multi-dimensional arrays. It returns a tuple.\n",
        "\n",
        "For 2D matrices, the first element of the tuple is the number of rows and the second is the number of columns."
      ],
      "metadata": {
        "id": "TrTvaNzBdlX-"
      }
    },
    {
      "cell_type": "code",
      "source": [
        "arr = np.array([[1, 2, 3], [5, 6, 7]]) #2D\n",
        "print(len(arr))\n",
        "print(arr.shape)\n",
        "\n",
        "arr = np.array([[[1, 2, 3], [5, 6, 7], [3, 4, 1]]]) #3D\n",
        "print(len(arr))\n",
        "x,y,z= arr.shape\n",
        "print(x,y,z)\n",
        "\n",
        "arr = np.array([[[1, 2, 3], [5, 6, 7]], [[3, 4, 1], [0, -1, -5]]]) #3D\n",
        "print(len(arr))\n",
        "print(arr.shape)\n",
        "\n",
        "arr = np.array([1, 2, 3]) #1D\n",
        "print(len(arr))\n",
        "print(arr.shape)"
      ],
      "metadata": {
        "colab": {
          "base_uri": "https://localhost:8080/"
        },
        "id": "_NKyMAIyeZiz",
        "outputId": "06b8599b-ec95-4a6c-83d0-4fa047d9ba09"
      },
      "execution_count": null,
      "outputs": [
        {
          "output_type": "stream",
          "name": "stdout",
          "text": [
            "2\n",
            "(2, 3)\n",
            "1\n",
            "1 3 3\n",
            "2\n",
            "(2, 2, 3)\n",
            "3\n",
            "(3,)\n"
          ]
        }
      ]
    },
    {
      "cell_type": "markdown",
      "source": [
        "# D. Iteration of a 2D Matrix"
      ],
      "metadata": {
        "id": "s10yCrsmbJBx"
      }
    },
    {
      "cell_type": "code",
      "source": [
        "#Row Wise Iteration\n",
        "def row_wise_iter(arr):\n",
        "  row, col= arr.shape\n",
        "  for i in range(row):\n",
        "    for j in range(col):\n",
        "      print(arr[i][j], end=\" \")\n",
        "    print()\n",
        "\n",
        "arr = np.array([[1, 2, 3], [5, 6, 7], [2, 4, 9]])\n",
        "row_wise_iter(arr)"
      ],
      "metadata": {
        "colab": {
          "base_uri": "https://localhost:8080/",
          "height": 193
        },
        "id": "yii0_viLa9by",
        "outputId": "26aea508-1cbb-422b-e1cb-81229d02872f"
      },
      "execution_count": null,
      "outputs": [
        {
          "output_type": "error",
          "ename": "NameError",
          "evalue": "name 'np' is not defined",
          "traceback": [
            "\u001b[0;31m---------------------------------------------------------------------------\u001b[0m",
            "\u001b[0;31mNameError\u001b[0m                                 Traceback (most recent call last)",
            "\u001b[0;32m<ipython-input-1-22c9b724189f>\u001b[0m in \u001b[0;36m<cell line: 9>\u001b[0;34m()\u001b[0m\n\u001b[1;32m      7\u001b[0m     \u001b[0mprint\u001b[0m\u001b[0;34m(\u001b[0m\u001b[0;34m)\u001b[0m\u001b[0;34m\u001b[0m\u001b[0;34m\u001b[0m\u001b[0m\n\u001b[1;32m      8\u001b[0m \u001b[0;34m\u001b[0m\u001b[0m\n\u001b[0;32m----> 9\u001b[0;31m \u001b[0marr\u001b[0m \u001b[0;34m=\u001b[0m \u001b[0mnp\u001b[0m\u001b[0;34m.\u001b[0m\u001b[0marray\u001b[0m\u001b[0;34m(\u001b[0m\u001b[0;34m[\u001b[0m\u001b[0;34m[\u001b[0m\u001b[0;36m1\u001b[0m\u001b[0;34m,\u001b[0m \u001b[0;36m2\u001b[0m\u001b[0;34m,\u001b[0m \u001b[0;36m3\u001b[0m\u001b[0;34m]\u001b[0m\u001b[0;34m,\u001b[0m \u001b[0;34m[\u001b[0m\u001b[0;36m5\u001b[0m\u001b[0;34m,\u001b[0m \u001b[0;36m6\u001b[0m\u001b[0;34m,\u001b[0m \u001b[0;36m7\u001b[0m\u001b[0;34m]\u001b[0m\u001b[0;34m,\u001b[0m \u001b[0;34m[\u001b[0m\u001b[0;36m2\u001b[0m\u001b[0;34m,\u001b[0m \u001b[0;36m4\u001b[0m\u001b[0;34m,\u001b[0m \u001b[0;36m9\u001b[0m\u001b[0;34m]\u001b[0m\u001b[0;34m]\u001b[0m\u001b[0;34m)\u001b[0m\u001b[0;34m\u001b[0m\u001b[0;34m\u001b[0m\u001b[0m\n\u001b[0m\u001b[1;32m     10\u001b[0m \u001b[0mrow_wise_iter\u001b[0m\u001b[0;34m(\u001b[0m\u001b[0marr\u001b[0m\u001b[0;34m)\u001b[0m\u001b[0;34m\u001b[0m\u001b[0;34m\u001b[0m\u001b[0m\n",
            "\u001b[0;31mNameError\u001b[0m: name 'np' is not defined"
          ]
        }
      ]
    },
    {
      "cell_type": "code",
      "source": [
        "#Column Wise Iteration\n",
        "def col_wise_iter(arr):\n",
        "  row, col= arr.shape\n",
        "\n",
        "  for i in range(col):\n",
        "    for j in range(row):\n",
        "      print(arr[j][i], end=\" \")\n",
        "    print()\n",
        "\n",
        "arr = np.array([[1, 2, 3], [5, 6, 7], [2, 4, 9]])\n",
        "col_wise_iter(arr)"
      ],
      "metadata": {
        "colab": {
          "base_uri": "https://localhost:8080/"
        },
        "id": "nabplARDbacN",
        "outputId": "6b354f92-d9d2-446a-ed03-c9e8a3640ec5"
      },
      "execution_count": null,
      "outputs": [
        {
          "output_type": "stream",
          "name": "stdout",
          "text": [
            "1 5 2 \n",
            "2 6 4 \n",
            "3 7 9 \n"
          ]
        }
      ]
    },
    {
      "cell_type": "markdown",
      "source": [
        "# E. Problem Solving\n",
        "1. Sum of all elements in a 2D matrix\n",
        "2. Sum of every row in a 2D matrix\n",
        "3. Sum of every column in a 2D matrix\n",
        "4. Swap the two columns of a m x 2 matrix\n",
        "5. Reversing the columns of a m x n matrix\n",
        "6. Add the elements of the primary diagonal in a square matrix. The primary diagonal of a square matrix are the elements who's row number and column number are equal\n",
        "\n",
        "7. Add the elements of the secondary diagonal in a square matrix. The secondary diagonal is a diagonal of a square matrix that goes from the lower left corner to the upper right corner.\n",
        "\n",
        "8. Add two matrices of same dimension\n",
        "\n",
        "9. Multiply two matrices\n",
        "\n",
        "10. Given a matrix, rotate elements column-wise to the left.\n",
        "\n",
        "> For 4*4 matrix</br>\n",
        "Input:</br>\n",
        "1    2    3    4    </br>\n",
        "5    6    7    8</br>\n",
        "9    1    5    2</br>\n",
        "3    4    5    6</br>\n",
        "Output:</br>\n",
        "2    3    4    1</br>\n",
        "6    7    8    5</br>\n",
        "1    5    2    9</br>\n",
        "4    5    6    3</br>"
      ],
      "metadata": {
        "id": "r7lCQlH5gDeI"
      }
    },
    {
      "cell_type": "markdown",
      "source": [
        "# E1. Sum of all elements in a 2D matrix"
      ],
      "metadata": {
        "id": "BHlx8GjTHg9o"
      }
    },
    {
      "cell_type": "code",
      "source": [
        "def matrix_sum(arr):\n",
        "  row, col= arr.shape\n",
        "  sum= 0\n",
        "  for i in range(row):\n",
        "    for j in range(col):\n",
        "      sum+= arr[i][j]\n",
        "  return sum\n",
        "\n",
        "arr = np.array([[1, 2, 3], [5, 6, 7], [2, 4, 9]])\n",
        "print(matrix_sum(arr))"
      ],
      "metadata": {
        "colab": {
          "base_uri": "https://localhost:8080/"
        },
        "id": "cAf6lQfQHbGC",
        "outputId": "d0aa22de-923a-4bca-d555-1d5e9d03dffc"
      },
      "execution_count": null,
      "outputs": [
        {
          "output_type": "stream",
          "name": "stdout",
          "text": [
            "39\n"
          ]
        }
      ]
    },
    {
      "cell_type": "markdown",
      "source": [
        "# E2. Sum of every row in a 2D matrix"
      ],
      "metadata": {
        "id": "oKPkkXzKIIOv"
      }
    },
    {
      "cell_type": "code",
      "source": [
        "def row_sum(arr):\n",
        "  row, col= arr.shape\n",
        "\n",
        "  for i in range(row):\n",
        "    sum= 0\n",
        "    for j in range(col):\n",
        "      sum+= arr[i][j]\n",
        "    print(sum)\n",
        "\n",
        "\n",
        "arr = np.array([[1, 2, 3], [5, 6, 7], [2, 4, 9]])\n",
        "row_sum(arr)"
      ],
      "metadata": {
        "colab": {
          "base_uri": "https://localhost:8080/"
        },
        "id": "OOyDN95hIHoy",
        "outputId": "c87a46a1-0b62-4cbc-d47e-1da03ba7bc33"
      },
      "execution_count": null,
      "outputs": [
        {
          "output_type": "stream",
          "name": "stdout",
          "text": [
            "6\n",
            "18\n",
            "15\n"
          ]
        }
      ]
    },
    {
      "cell_type": "markdown",
      "source": [
        "# E3. Sum of every column in a 2D matrix"
      ],
      "metadata": {
        "id": "eQAW5i-mIZIq"
      }
    },
    {
      "cell_type": "code",
      "source": [
        "def col_sum(arr):\n",
        "  row, col= arr.shape\n",
        "  for i in range(col):\n",
        "    sum= 0\n",
        "    for j in range(row):\n",
        "      sum+= arr[j][i]\n",
        "    print(sum)\n",
        "\n",
        "arr = np.array([[1, 2, 3], [5, 6, 7], [2, 4, 9]])\n",
        "col_sum(arr)"
      ],
      "metadata": {
        "colab": {
          "base_uri": "https://localhost:8080/"
        },
        "id": "QqHR729wIcrK",
        "outputId": "fd23383d-98d0-4f04-e6cc-a61f9f3425dc"
      },
      "execution_count": null,
      "outputs": [
        {
          "output_type": "stream",
          "name": "stdout",
          "text": [
            "8\n",
            "12\n",
            "19\n"
          ]
        }
      ]
    },
    {
      "cell_type": "markdown",
      "source": [
        "# E4. Swap the two columns of a m x 2 matrix"
      ],
      "metadata": {
        "id": "-D0G7iQbIum6"
      }
    },
    {
      "cell_type": "code",
      "source": [
        "def swap_columns(arr):\n",
        "  row, col= arr.shape\n",
        "  for i in range(row):\n",
        "    arr[i][0], arr[i][1] = arr[i][1], arr[i][0]\n",
        "  return arr\n",
        "\n",
        "arr = np.array([[1, 2], [5, 6], [2, 4]])\n",
        "row_wise_iter(arr)\n",
        "print()\n",
        "row_wise_iter(swap_columns(arr))"
      ],
      "metadata": {
        "colab": {
          "base_uri": "https://localhost:8080/"
        },
        "id": "JZG4Jd51Iw1g",
        "outputId": "7eea0854-2957-4c42-a09c-9c90602c82d8"
      },
      "execution_count": null,
      "outputs": [
        {
          "output_type": "stream",
          "name": "stdout",
          "text": [
            "1 2 \n",
            "5 6 \n",
            "2 4 \n",
            "\n",
            "2 1 \n",
            "6 5 \n",
            "4 2 \n"
          ]
        }
      ]
    },
    {
      "cell_type": "markdown",
      "source": [
        "# E5. Reversing the columns of a m x n matrix\n",
        "> 0th column ⇌ (n-1)th  column </br>\n",
        "1st column ⇌ (n-2)th  column </br>\n",
        "2nd column ⇌ (n-3)th  column </br>\n",
        "and so on and so forth"
      ],
      "metadata": {
        "id": "3UGTiuMpJo21"
      }
    },
    {
      "cell_type": "code",
      "source": [
        "def rev_columns(arr):\n",
        "  row, col= arr.shape\n",
        "  for i in range(row):\n",
        "    for j in range(col//2):\n",
        "      arr[i][j], arr[i][col-1-j] = arr[i][col-1-j], arr[i][j]\n",
        "  return arr\n",
        "\n",
        "import numpy as np\n",
        "arr = np.array([[1, 2, 3], [5, 6, 7], [2, 4, 9]])\n",
        "row_wise_iter(arr)\n",
        "print()\n",
        "row_wise_iter(rev_columns(arr))"
      ],
      "metadata": {
        "colab": {
          "base_uri": "https://localhost:8080/"
        },
        "id": "wY4UMoBaJqur",
        "outputId": "b168f9e5-36ef-4ba8-ee48-ca63cf76a35e"
      },
      "execution_count": null,
      "outputs": [
        {
          "output_type": "stream",
          "name": "stdout",
          "text": [
            "1 2 3 \n",
            "5 6 7 \n",
            "2 4 9 \n",
            "\n",
            "3 2 1 \n",
            "7 6 5 \n",
            "9 4 2 \n"
          ]
        }
      ]
    },
    {
      "cell_type": "markdown",
      "source": [
        "# E6. Addition of Primary Diagonal\n",
        "Add the elements of the primary diagonal in a square matrix. The primary diagonal of a square matrix are the elements who's row number and column number are equal"
      ],
      "metadata": {
        "id": "Q2l4PINIqmex"
      }
    },
    {
      "cell_type": "code",
      "source": [
        "def add_primary_diagonal(arr):\n",
        "  row, col= arr.shape\n",
        "  if row!=col:\n",
        "    return \"Not a square matrix\"\n",
        "  sum= 0\n",
        "  for i in range(row):\n",
        "    for j in range(col):\n",
        "      if i==j:\n",
        "        sum+= arr[i][j]\n",
        "  return sum\n",
        "\n",
        "import numpy as np\n",
        "arr = np.array([[1, 2, 3], [5, 6, 7], [2, 4, 9]])\n",
        "add_primary_diagonal(arr)"
      ],
      "metadata": {
        "colab": {
          "base_uri": "https://localhost:8080/"
        },
        "id": "SIw45VItqtcM",
        "outputId": "27a13065-48df-4f09-9166-a967d83c8167"
      },
      "execution_count": null,
      "outputs": [
        {
          "output_type": "execute_result",
          "data": {
            "text/plain": [
              "16"
            ]
          },
          "metadata": {},
          "execution_count": 9
        }
      ]
    },
    {
      "cell_type": "markdown",
      "source": [
        "# E8. Add two matrices of same dimension"
      ],
      "metadata": {
        "id": "nnDon66arsV3"
      }
    },
    {
      "cell_type": "code",
      "source": [
        "def add_matrices(a, b):\n",
        "  row1, col1= a.shape\n",
        "  row2, col2= b.shape\n",
        "\n",
        "  if (row1!=row2 or col1!=col2):\n",
        "    return \"Dimensions do not match\"\n",
        "\n",
        "  arr= np.zeros((row1,col1), dtype=int)\n",
        "  for i in range(row1):\n",
        "    for j in range(col1):\n",
        "      arr[i][j]= a[i][j]+b[i][j]\n",
        "  return arr\n",
        "\n",
        "import numpy as np\n",
        "arr1 = np.array([[1, 2, 3], [5, 6, 7], [2, 4, 9]])\n",
        "arr2 = np.array([[3, 2, 1], [7, 6, 8], [9, 4, 2]])\n",
        "row_wise_iter(add_matrices(arr1, arr2))\n",
        "arr3 = np.array([[1, 2], [5, 6], [9, 4]])\n",
        "print(add_matrices(arr1, arr3))"
      ],
      "metadata": {
        "colab": {
          "base_uri": "https://localhost:8080/"
        },
        "id": "l2tXaTzPrySR",
        "outputId": "2a6c7a14-5e62-472f-b021-f57e8bee3bf5"
      },
      "execution_count": null,
      "outputs": [
        {
          "output_type": "stream",
          "name": "stdout",
          "text": [
            "4 4 4 \n",
            "12 12 15 \n",
            "11 8 11 \n",
            "Dimensions do not match\n"
          ]
        }
      ]
    },
    {
      "cell_type": "markdown",
      "source": [
        "# Complete E2, E7, E9 and E10 by yourself"
      ],
      "metadata": {
        "id": "qZUlzUjkqYIz"
      }
    },
    {
      "cell_type": "code",
      "source": [
        "def Max_Col_Sum (arr):\n",
        "  max=0\n",
        "  row, col= arr.shape\n",
        "  for i in range(col):\n",
        "    sum=0\n",
        "    for j in range(row):\n",
        "      sum+= arr[j][i]\n",
        "    if sum>max:\n",
        "      max= sum\n",
        "  return max\n",
        "\n",
        "import numpy as np\n",
        "arr = np.array([[1, 2, 3], [5, 6, 7], [2, 4, 9]])\n",
        "print(Max_Col_Sum(arr))\n",
        "\n",
        "arr = np.array([[1, 2, 3], [2, 4, 1]])\n",
        "print(Max_Col_Sum(arr))\n",
        "\n",
        "arr = np.array([[0, 0, 0]])\n",
        "print(Max_Col_Sum(arr))"
      ],
      "metadata": {
        "colab": {
          "base_uri": "https://localhost:8080/"
        },
        "id": "FeiWX5I1v1Oa",
        "outputId": "83d6b0e5-6b5e-4a24-cbbb-31e8dd849b73"
      },
      "execution_count": null,
      "outputs": [
        {
          "output_type": "stream",
          "name": "stdout",
          "text": [
            "19\n",
            "6\n",
            "0\n"
          ]
        }
      ]
    },
    {
      "cell_type": "markdown",
      "source": [
        "Left rotate a m×n array twice, where m and n can be any natural positive number."
      ],
      "metadata": {
        "id": "0i9iZpp5GSUb"
      }
    },
    {
      "cell_type": "code",
      "source": [
        "import numpy as np\n",
        "def left_rotate(arr):\n",
        "  row, col= arr.shape\n",
        "  for i in range(2):\n",
        "    for i in range(row):\n",
        "      temp= arr[i][0]\n",
        "      for j in range(col-1):\n",
        "        arr[i][j]= arr[i][j+1]\n",
        "      arr[i][col-1]= temp\n",
        "  return arr\n",
        "\n",
        "arr = np.array([[1, 2, 3, 7], [5, 6, 7, 6], [2, 4, 9, 6]])\n",
        "row_wise_iter(arr)\n",
        "arr= left_rotate(arr)\n",
        "row_wise_iter(arr)"
      ],
      "metadata": {
        "colab": {
          "base_uri": "https://localhost:8080/"
        },
        "id": "kHA2r2C_GVKO",
        "outputId": "171d30c7-a284-4058-fbfd-25dc84cb2fc5"
      },
      "execution_count": null,
      "outputs": [
        {
          "output_type": "stream",
          "name": "stdout",
          "text": [
            "1 2 3 7 \n",
            "5 6 7 6 \n",
            "2 4 9 6 \n",
            "3 7 1 2 \n",
            "7 6 5 6 \n",
            "9 6 2 4 \n"
          ]
        }
      ]
    },
    {
      "cell_type": "code",
      "source": [
        "matrix1 = [[12,7,3],\n",
        "        [4 ,5,6],\n",
        "        [7 ,8,9]]\n",
        "matrix2 = [[5,8,1],\n",
        "        [6,7,3],\n",
        "        [4,5,9]]\n",
        "\n",
        "res = [[0 for x in range(3)] for y in range(3)]\n",
        "\n",
        "# explicit for loops\n",
        "for i in range(len(matrix1)):\n",
        "    for j in range(len(matrix2[2])):\n",
        "        for k in range(len(matrix2)):\n",
        "\n",
        "            # resulted matrix\n",
        "            res[i][j] += matrix1[i][k] * matrix2[k][j]\n",
        "\n",
        "print (res)"
      ],
      "metadata": {
        "colab": {
          "base_uri": "https://localhost:8080/"
        },
        "id": "2J2WvVWgK1AN",
        "outputId": "4084f782-1aa5-4fb6-9119-2616ba37a29a"
      },
      "execution_count": null,
      "outputs": [
        {
          "output_type": "stream",
          "name": "stdout",
          "text": [
            "[[114, 160, 60], [74, 97, 73], [119, 157, 112]]\n"
          ]
        }
      ]
    }
  ]
}