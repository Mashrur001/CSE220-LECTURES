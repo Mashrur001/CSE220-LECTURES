{
  "nbformat": 4,
  "nbformat_minor": 0,
  "metadata": {
    "colab": {
      "provenance": [],
      "include_colab_link": true
    },
    "kernelspec": {
      "name": "python3",
      "display_name": "Python 3"
    },
    "language_info": {
      "name": "python"
    }
  },
  "cells": [
    {
      "cell_type": "markdown",
      "metadata": {
        "id": "view-in-github",
        "colab_type": "text"
      },
      "source": [
        "<a href=\"https://colab.research.google.com/github/Mashrur001/CSE220-LECTURES-/blob/main/Linear_Arrays.ipynb\" target=\"_parent\"><img src=\"https://colab.research.google.com/assets/colab-badge.svg\" alt=\"Open In Colab\"/></a>"
      ]
    },
    {
      "cell_type": "markdown",
      "source": [
        "# **Lecture 1: Linear Arrays**\n",
        "## [CSE220 | Data Structures | STV/SFT]"
      ],
      "metadata": {
        "id": "8Vg5r5fj-JRZ"
      }
    },
    {
      "cell_type": "markdown",
      "source": [
        "# 1. Linear Array Properties\n",
        "1.1. All the elements will be of the same data type\n",
        "\n",
        "1.2. All the non-dummy values will be at the left followed by the dummy values (zero/None/null)\n",
        "\n",
        "1.3 Length of an array is fixed once declared and cannot be changed"
      ],
      "metadata": {
        "id": "fJXuG-sRPPxW"
      }
    },
    {
      "cell_type": "markdown",
      "source": [
        "# 2. Ways of Creating a Numpy Array"
      ],
      "metadata": {
        "id": "IaXETPNRP2gu"
      }
    },
    {
      "cell_type": "code",
      "execution_count": null,
      "metadata": {
        "colab": {
          "base_uri": "https://localhost:8080/"
        },
        "id": "W1qfsIgbPL9F",
        "outputId": "075f7b0b-4bde-48f3-aaea-71446e157101"
      },
      "outputs": [
        {
          "output_type": "stream",
          "name": "stdout",
          "text": [
            "[0 0 0 0 0]\n",
            "<class 'numpy.ndarray'>\n",
            "[1 5 3 4 5 5]\n",
            "<class 'numpy.ndarray'>\n",
            "[5.5 0.  0.  0.  0.  0. ]\n",
            "<class 'numpy.ndarray'>\n"
          ]
        }
      ],
      "source": [
        "import numpy as np\n",
        "arr = np.array([0]*5)\n",
        "print(arr)\n",
        "print(type(arr))\n",
        "\n",
        "arr1 = np.array([1, 5, 3, 4, 5, 5])\n",
        "print(arr1)\n",
        "print(type(arr1))\n",
        "\n",
        "arr2 = np.zeros(6, dtype=float)\n",
        "arr2[0]= 5.5\n",
        "print(arr2)\n",
        "print(type(arr2))"
      ]
    },
    {
      "cell_type": "markdown",
      "source": [
        "# 3. Array Operations\n",
        "3.1 Iteration\n",
        "\n",
        "3.2 Resize\n",
        "\n",
        "3.3 Copy (Pass by Value)\n",
        "\n",
        "3.4 Shift: Left and Right\n",
        "\n",
        "3.5 Rotate: Left and Right\n",
        "\n",
        "3.6 Reverse: Out-of-place and In-place\n",
        "\n",
        "3.7 Insert: At the end or anywhere else\n",
        "\n",
        "3.8 Delete: Last element or any other element\n"
      ],
      "metadata": {
        "id": "ZVAzfN04Qa6f"
      }
    },
    {
      "cell_type": "markdown",
      "source": [
        "## 3.1 Iteration\n",
        "Iteration refers to checking all the values index by index. The main idea is to go to that memory location and check all the values index by index.\n"
      ],
      "metadata": {
        "id": "qCNFsM33RgkH"
      }
    },
    {
      "cell_type": "code",
      "source": [
        "arr1 = np.array([1, 2, 3, 4, 5, 0, 0])\n",
        "\n",
        "print(\"Using Regular For Loop\")\n",
        "for i in arr1:\n",
        "  print(i)\n",
        "\n",
        "print(\"Using Ranged For Loop\")\n",
        "for i in range(0, len(arr1),1):\n",
        "  print(arr1[i])"
      ],
      "metadata": {
        "colab": {
          "base_uri": "https://localhost:8080/"
        },
        "id": "EJvmpN8mRfVj",
        "outputId": "5f2e76a2-dd5e-4d71-86f0-465560d8c0db"
      },
      "execution_count": null,
      "outputs": [
        {
          "output_type": "stream",
          "name": "stdout",
          "text": [
            "Using Regular For Loop\n",
            "1\n",
            "2\n",
            "3\n",
            "4\n",
            "5\n",
            "0\n",
            "0\n",
            "Using Ranged For Loop\n",
            "1\n",
            "2\n",
            "3\n",
            "4\n",
            "5\n",
            "0\n",
            "0\n"
          ]
        }
      ]
    },
    {
      "cell_type": "code",
      "source": [
        "#Reverse Print\n",
        "for i in range(-1, -len(arr1)-1,-1):\n",
        "  print(arr1[i])"
      ],
      "metadata": {
        "colab": {
          "base_uri": "https://localhost:8080/"
        },
        "id": "CYfKIe5aDFuW",
        "outputId": "2382ba3d-21f7-4e61-d894-179a8538d8e9"
      },
      "execution_count": null,
      "outputs": [
        {
          "output_type": "stream",
          "name": "stdout",
          "text": [
            "0\n",
            "0\n",
            "5\n",
            "4\n",
            "3\n",
            "2\n",
            "1\n"
          ]
        }
      ]
    },
    {
      "cell_type": "markdown",
      "source": [
        "## 3.2 Resize\n",
        "We can not resize an array because it has a fixed memory location. However, if we ever need to resize an array, we need to create a new array with a new length and then copy the values from the original array. For example, if we have an array [10, 20, 30, 40, 50] whose length is 5 and want to resize the array with length 8. The new array will be [10, 20, 30, 40, 50, None, None, None]."
      ],
      "metadata": {
        "id": "UIc7AKNtSGHw"
      }
    },
    {
      "cell_type": "code",
      "source": [
        "import numpy as np\n",
        "\n",
        "def resizeArray(arr, new_size):\n",
        "  arr2= np.array([0]* new_size)\n",
        "  for i in range(len(arr)):\n",
        "    arr2[i]= arr[i]\n",
        "  return arr2\n",
        "\n",
        "arr1= np.array([1,2,3,4])\n",
        "print(resizeArray(arr1, 6))\n",
        "# x= resizeArray(arr1, 6)"
      ],
      "metadata": {
        "id": "39o9GWXJSIBc",
        "colab": {
          "base_uri": "https://localhost:8080/"
        },
        "outputId": "ba21ada2-3252-407b-8ede-d081f2315cf6"
      },
      "execution_count": null,
      "outputs": [
        {
          "output_type": "stream",
          "name": "stdout",
          "text": [
            "[1 2 3 4 0 0]\n"
          ]
        }
      ]
    },
    {
      "cell_type": "markdown",
      "source": [
        "## 3.3 Copy (Pass by Value)\n",
        "Copy array means you initialize a new array with the same length as the given array to copy and then copy the old array’s value by value. As the variable where we store the array only stores the memory location, only copying the value is not enough for array copying. For example, if you have an array titled arr = [1, 2, 3, 4] and write a2 = arr. It does not mean you have copied arr to a2."
      ],
      "metadata": {
        "id": "lBqTxwsOSf0_"
      }
    },
    {
      "cell_type": "code",
      "source": [
        "arr1= np.array([1,2,3,4])\n",
        "arr2= arr1  #pass by reference\n",
        "print(id(arr1)) #id() function is used to find the memory location\n",
        "print(id(arr2))"
      ],
      "metadata": {
        "colab": {
          "base_uri": "https://localhost:8080/"
        },
        "id": "odWZF-0PV11r",
        "outputId": "26e644e4-5102-4034-afa6-545d1ea92acc"
      },
      "execution_count": null,
      "outputs": [
        {
          "output_type": "stream",
          "name": "stdout",
          "text": [
            "139056372101744\n",
            "139056372101744\n"
          ]
        }
      ]
    },
    {
      "cell_type": "code",
      "source": [
        "def copyArray(arr):\n",
        "  arr2= np.array([0]* len(arr))\n",
        "  arr2= np.zeros(len(arr), dtype= type(arr[0]))\n",
        "  for i in range(len(arr)):\n",
        "    arr2[i]= arr[i]\n",
        "  return arr2\n",
        "\n",
        "arr1= np.array([1,2,3,4])\n",
        "arr2= copyArray(arr1)\n",
        "# arr2= arr1.copy()\n",
        "print(id(arr1))\n",
        "print(id(arr2))"
      ],
      "metadata": {
        "colab": {
          "base_uri": "https://localhost:8080/"
        },
        "id": "YdLJz5DKSgpW",
        "outputId": "60005370-f1d2-4181-b661-8f5141057120"
      },
      "execution_count": null,
      "outputs": [
        {
          "output_type": "stream",
          "name": "stdout",
          "text": [
            "140294747367696\n",
            "140294747368464\n"
          ]
        }
      ]
    },
    {
      "cell_type": "markdown",
      "source": [
        "## 3.4 Shift: Left and Right\n",
        "\n",
        "**Shifting an Array Left:** Shifting an entire array left moves each element one (or more, depending how the shift amount) position to the left. Obviously, the first element in the array will fall off at the beginning and be lost forever. The last slot of the array before the shift (ie. the slot where the last element was until the shift) is now unused (we can put a None there to signify that). For example, shifting the array [5, 3, 9, 13, 2] left by one position will result in the array [3, 9, 13, 2, None ]. Note how the array[0] element with the value of 5 is now lost, and there is an empty slot at the end."
      ],
      "metadata": {
        "id": "NQvKbsmrSgyQ"
      }
    },
    {
      "cell_type": "code",
      "source": [
        "def shiftLeft(arr):\n",
        "  for i in range(0, len(arr), 1):\n",
        "    arr[i-1]= arr[i] #arr[i+1]=arr[i]\n",
        "  arr[len(arr)-1]= arr[0]\n",
        "  return arr\n",
        "\n",
        "arr= np.array([1,2,3,4])\n",
        "print(shiftLeft(arr))"
      ],
      "metadata": {
        "id": "y9AWDJyaSjPR",
        "colab": {
          "base_uri": "https://localhost:8080/"
        },
        "outputId": "a8ad5c47-94a2-4af7-e894-fa1a1229b99c"
      },
      "execution_count": null,
      "outputs": [
        {
          "output_type": "stream",
          "name": "stdout",
          "text": [
            "[2 3 4 0]\n"
          ]
        }
      ]
    },
    {
      "cell_type": "markdown",
      "source": [
        "**Shifting an Array Right:** Shifting an entire array right moves each element one (or more, depending how the shift amount) position to the right. Obviously, the last element in the array will fall off at the end and be lost forever. The first slot of the array before the shift (ie., the slot where the first element was until the shift) is now unused (we can put a None there to signify that). The size of the array remains the same however because the assumption is that you would something in the now-unused slot. For example, shifting the array [5, 3, 9, 13, 2] right by one position will result in the array [None, 5, 3, 9, 13]. Note how the array[4] element with the value of 2 is now lost, and there is an empty slot at the beginning."
      ],
      "metadata": {
        "id": "CiW0t43PheFN"
      }
    },
    {
      "cell_type": "code",
      "source": [
        "def shiftRight(arr):\n",
        "  for i in range(len(arr)-1, 0, -1):\n",
        "    arr[i]= arr[i-1]\n",
        "  arr[0]=0\n",
        "  return arr\n",
        "\n",
        "arr= np.array([1,2,3,4])\n",
        "print(shiftRight(arr))"
      ],
      "metadata": {
        "id": "91lXRKRRSjke",
        "colab": {
          "base_uri": "https://localhost:8080/"
        },
        "outputId": "a278e7cc-6c61-454f-d093-f7a8635a5e13"
      },
      "execution_count": null,
      "outputs": [
        {
          "output_type": "stream",
          "name": "stdout",
          "text": [
            "[0 1 2 3]\n"
          ]
        }
      ]
    },
    {
      "cell_type": "markdown",
      "source": [
        "## 3.5 Rotate: Left and Right\n",
        "\n",
        "**Rotating an Array Left:** Rotating an array left is equivalent to shifting a circular or cyclic array left where the 1st element will not be lost, but rather move to the last slot. Rotating the array [5, 3, 9, 13, 2] left by one position will result in the array [3, 9, 13, 2, 5]."
      ],
      "metadata": {
        "id": "X19WkPm6Sj96"
      }
    },
    {
      "cell_type": "code",
      "source": [
        "def rotateLeft(arr):\n",
        "  temp= arr[0]\n",
        "  for i in range(1, len(arr), 1):\n",
        "    arr[i-1]= arr[i]\n",
        "  arr[len(arr)-1]= temp\n",
        "  return arr\n",
        "\n",
        "arr= np.array([1,2,3,4])\n",
        "print(rotateLeft(arr))"
      ],
      "metadata": {
        "id": "4djVniYxSlw4",
        "colab": {
          "base_uri": "https://localhost:8080/"
        },
        "outputId": "298a6fcc-23ba-4bec-f40e-e12bbaf40371"
      },
      "execution_count": null,
      "outputs": [
        {
          "output_type": "stream",
          "name": "stdout",
          "text": [
            "[2 3 4 1]\n"
          ]
        }
      ]
    },
    {
      "cell_type": "code",
      "source": [
        "def rotate_left_twice(arr, size):\n",
        "  for i in range(2):\n",
        "    temp= arr[0]\n",
        "    for i in range(1, size, 1):\n",
        "      arr[i-1]= arr[i]\n",
        "    arr[size-1]= temp\n",
        "  return arr\n",
        "\n",
        "arr= np.array([1,2,3,4, 0, 0])\n",
        "print(rotate_left_twice(arr,4))"
      ],
      "metadata": {
        "colab": {
          "base_uri": "https://localhost:8080/"
        },
        "id": "4fOxEQ4qf2ZZ",
        "outputId": "dcb4ca0c-54d3-471c-dda3-7b52759ab295"
      },
      "execution_count": null,
      "outputs": [
        {
          "output_type": "stream",
          "name": "stdout",
          "text": [
            "[3 4 1 2 0 0]\n"
          ]
        }
      ]
    },
    {
      "cell_type": "markdown",
      "source": [
        "**Rotating an Array Right:** Rotating an array right is equivalent to shifting a circular or cyclic array right where the last element will not be lost, but rather move to the 1st slot. Rotating the array [5, 3, 9, 13, 2] right by one position will result in the array [2, 5, 3, 9, 13]."
      ],
      "metadata": {
        "id": "Al2rCjv4hvXL"
      }
    },
    {
      "cell_type": "code",
      "source": [
        "def rotateRight(arr):\n",
        "  temp= arr[len(arr)-1]\n",
        "  for i in range(len(arr)-1, 0, -1):\n",
        "    arr[i]= arr[i-1]\n",
        "  arr[0]= temp\n",
        "  return arr\n",
        "\n",
        "arr= np.array([1,2,3,4])\n",
        "print(rotateRight(arr))"
      ],
      "metadata": {
        "id": "yH-9rgtASly7",
        "colab": {
          "base_uri": "https://localhost:8080/"
        },
        "outputId": "feb16ce2-9b83-4108-b75a-7ccdd0a786f8"
      },
      "execution_count": null,
      "outputs": [
        {
          "output_type": "stream",
          "name": "stdout",
          "text": [
            "[4 1 2 3]\n"
          ]
        }
      ]
    },
    {
      "cell_type": "code",
      "source": [],
      "metadata": {
        "id": "nOTyu4A7f0Bx"
      },
      "execution_count": null,
      "outputs": []
    },
    {
      "cell_type": "markdown",
      "source": [
        "## 3.6 Reverse: Out-of-place and In-place\n",
        "Reversing an array can be implemented in two ways. First, we will create a new array with the same size as the original array and then copy the values in reverse order. The method is called out-of-the-place operation.\n",
        "\n",
        "However, an efficient approach might be to reverse the array in the original array. By this, we will not need to allocate extra spaces. This is known as an in-place operation. To do so we need to start swapping values from the beginning position to the end position. The idea is to swap starting value with the end value, then the second value with the second last value, and so on."
      ],
      "metadata": {
        "id": "otgFjeilSm6N"
      }
    },
    {
      "cell_type": "code",
      "source": [
        "def reverse_out_of_place(arr):\n",
        "  arr2= np.zeros(len(arr), dtype=int)\n",
        "  i= 0\n",
        "  j= len(arr)-1\n",
        "  while(i<=len(arr)-1):\n",
        "    arr2[i]= arr[j]\n",
        "    i+=1\n",
        "    j-=1\n",
        "\n",
        "  return arr2\n",
        "\n",
        "arr= np.array([1,2,3,4])\n",
        "print(reverse_out_of_place(arr))\n",
        "arr= np.array([1,2,3,4,5])\n",
        "print(reverse_out_of_place(arr))"
      ],
      "metadata": {
        "id": "XiXnpKQiSnm6",
        "colab": {
          "base_uri": "https://localhost:8080/"
        },
        "outputId": "c4856b48-52e0-4269-b7c3-2d929d6ed1ce"
      },
      "execution_count": null,
      "outputs": [
        {
          "output_type": "stream",
          "name": "stdout",
          "text": [
            "[4 3 2 1]\n",
            "[5 4 3 2 1]\n"
          ]
        }
      ]
    },
    {
      "cell_type": "code",
      "source": [
        "def reverse_in_place(arr):\n",
        "  j = len(arr)-1\n",
        "  for i in range(len(arr)//2):\n",
        "    arr[i], arr[j]= arr[j], arr[i]\n",
        "    j-=1\n",
        "  return arr\n",
        "\n",
        "arr= np.array([1,2,3,4])\n",
        "print(reverse_in_place(arr))\n",
        "arr= np.array([1,2,3,4,5])\n",
        "print(reverse_in_place(arr))"
      ],
      "metadata": {
        "id": "YPVYJzztSnsT",
        "colab": {
          "base_uri": "https://localhost:8080/"
        },
        "outputId": "8cd4459a-3394-415a-ffd5-b8fc319fcb74"
      },
      "execution_count": null,
      "outputs": [
        {
          "output_type": "stream",
          "name": "stdout",
          "text": [
            "[4 3 2 1]\n",
            "[5 4 3 2 1]\n"
          ]
        }
      ]
    },
    {
      "cell_type": "markdown",
      "source": [
        "# Introducting New Linear Array Property: Size\n",
        "\n",
        "\n",
        "*   Size indicates the number of non-dummy values in an array.\n",
        "*   Size of an array can never exceed the length of that array. Which means size > length is not possible.\n",
        "*   Size cannot be negative.\n",
        "*   Size is used in array insertion or deletion, or any task that involves working with the non-dummy values only.\n",
        "*   If size < length, insertion in an array is possible, otherwise must resize the array.\n",
        "*   If size > 0, at least one element from the array can be deleted, otherwise, there is nothing to delete."
      ],
      "metadata": {
        "id": "AOP--bGMosrf"
      }
    },
    {
      "cell_type": "code",
      "source": [
        "#Complete the function print_non_dummies that prints all the non-dummy values of an array\n",
        "import numpy as np\n",
        "\n",
        "def print_non_dummies(arr, size):\n",
        "  for i in range(0, size):\n",
        "    print(arr[i])\n",
        "\n",
        "arr= np.zeros(6, dtype=int)\n",
        "arr[0], arr[1], arr[2] = 4, 0, 5\n",
        "print(arr)\n",
        "print_non_dummies(arr, 3) #array, 3"
      ],
      "metadata": {
        "colab": {
          "base_uri": "https://localhost:8080/"
        },
        "id": "t5S_kXMno4DO",
        "outputId": "cdfbee69-01b9-4e56-c7ee-0b2478c9ecf2"
      },
      "execution_count": null,
      "outputs": [
        {
          "output_type": "stream",
          "name": "stdout",
          "text": [
            "[4 0 5 0 0 0]\n",
            "4\n",
            "0\n",
            "5\n"
          ]
        }
      ]
    },
    {
      "cell_type": "markdown",
      "source": [
        "# 3.7 Insert: At the end or anywhere else\n",
        "\n",
        "*   At first, check whether insertion is possible or not. If not possible, resize the array\n",
        "*   Valid places of inserting: index 0 to size\n",
        "*   If you are inserting at the end of the array, no shifting is needed\n",
        "*   If you are inserting anywhere else but at the end of an array, then the subsequent elements must be right shifted before insertion\n",
        "*   Increase size after insertion\n",
        "\n"
      ],
      "metadata": {
        "id": "VMMx0HCysQSE"
      }
    },
    {
      "cell_type": "code",
      "source": [
        "#Inserting at the end\n",
        "def insert_at_the_end(arr, size, elem):\n",
        "  if size >= len(arr):\n",
        "    arr= resizeArray(arr, len(arr)+5)\n",
        "\n",
        "  arr[size]= elem\n",
        "  return arr\n",
        "\n",
        "arr= np.zeros(4, dtype=int)\n",
        "arr[0], arr[1], arr[2] = 4, 6, 5\n",
        "print(arr)\n",
        "print(insert_at_the_end(arr, 3, 15)) #array, size, elem\n",
        "print(insert_at_the_end(arr, 4, 25)) #array, size, elem"
      ],
      "metadata": {
        "colab": {
          "base_uri": "https://localhost:8080/"
        },
        "id": "lys8eve9um1V",
        "outputId": "b4d49827-15c5-413f-c107-9c96f6a81207"
      },
      "execution_count": null,
      "outputs": [
        {
          "output_type": "stream",
          "name": "stdout",
          "text": [
            "[4 6 5 0]\n",
            "[ 4  6  5 15]\n",
            "[ 4  6  5 15 25  0  0]\n"
          ]
        }
      ]
    },
    {
      "cell_type": "code",
      "source": [
        "#Inserting anywhere\n",
        "def insert_anywhere(arr, size, index, elem):\n",
        "\n",
        "  if index<0 or index>size:\n",
        "    return \"Insertion Not Possible\"\n",
        "\n",
        "  if size >= len(arr):\n",
        "    arr= resizeArray(arr, len(arr)+3)\n",
        "\n",
        "  for i in range(size, index, -1): #Right Shift\n",
        "    arr[i]= arr[i-1]\n",
        "\n",
        "  arr[index]= elem\n",
        "  return arr\n",
        "\n",
        "arr= np.zeros(4, dtype=int)\n",
        "arr[0], arr[1], arr[2] = 4, 6, 5\n",
        "print(arr)\n",
        "print(insert_anywhere(arr, 3, 1, 15)) #array, size, index, elem\n",
        "print(insert_anywhere(arr, 4, 4, 25)) #array, size, index, elem, the size increased\n",
        "\n",
        "# If you want to insert at the end with this function too,\n",
        "# all you have to do is provide the index value equal to the size"
      ],
      "metadata": {
        "colab": {
          "base_uri": "https://localhost:8080/",
          "height": 401
        },
        "id": "yer4VEwusTxT",
        "outputId": "bd9e1060-21cd-4e65-a2e7-5f0f9d6ab3fd"
      },
      "execution_count": null,
      "outputs": [
        {
          "output_type": "stream",
          "name": "stdout",
          "text": [
            "[4 6 5 0]\n",
            "[ 4 15  6  5]\n"
          ]
        },
        {
          "output_type": "error",
          "ename": "NameError",
          "evalue": "name 'resizeArray' is not defined",
          "traceback": [
            "\u001b[0;31m---------------------------------------------------------------------------\u001b[0m",
            "\u001b[0;31mNameError\u001b[0m                                 Traceback (most recent call last)",
            "\u001b[0;32m<ipython-input-9-34cc8c71b48b>\u001b[0m in \u001b[0;36m<cell line: 22>\u001b[0;34m()\u001b[0m\n\u001b[1;32m     20\u001b[0m \u001b[0mprint\u001b[0m\u001b[0;34m(\u001b[0m\u001b[0marr\u001b[0m\u001b[0;34m)\u001b[0m\u001b[0;34m\u001b[0m\u001b[0;34m\u001b[0m\u001b[0m\n\u001b[1;32m     21\u001b[0m \u001b[0mprint\u001b[0m\u001b[0;34m(\u001b[0m\u001b[0minsert_anywhere\u001b[0m\u001b[0;34m(\u001b[0m\u001b[0marr\u001b[0m\u001b[0;34m,\u001b[0m \u001b[0;36m3\u001b[0m\u001b[0;34m,\u001b[0m \u001b[0;36m1\u001b[0m\u001b[0;34m,\u001b[0m \u001b[0;36m15\u001b[0m\u001b[0;34m)\u001b[0m\u001b[0;34m)\u001b[0m \u001b[0;31m#array, size, index, elem\u001b[0m\u001b[0;34m\u001b[0m\u001b[0;34m\u001b[0m\u001b[0m\n\u001b[0;32m---> 22\u001b[0;31m \u001b[0mprint\u001b[0m\u001b[0;34m(\u001b[0m\u001b[0minsert_anywhere\u001b[0m\u001b[0;34m(\u001b[0m\u001b[0marr\u001b[0m\u001b[0;34m,\u001b[0m \u001b[0;36m4\u001b[0m\u001b[0;34m,\u001b[0m \u001b[0;36m4\u001b[0m\u001b[0;34m,\u001b[0m \u001b[0;36m25\u001b[0m\u001b[0;34m)\u001b[0m\u001b[0;34m)\u001b[0m \u001b[0;31m#array, size, index, elem, the size increased\u001b[0m\u001b[0;34m\u001b[0m\u001b[0;34m\u001b[0m\u001b[0m\n\u001b[0m\u001b[1;32m     23\u001b[0m \u001b[0;34m\u001b[0m\u001b[0m\n\u001b[1;32m     24\u001b[0m \u001b[0;31m# If you want to insert at the end with this function too,\u001b[0m\u001b[0;34m\u001b[0m\u001b[0;34m\u001b[0m\u001b[0m\n",
            "\u001b[0;32m<ipython-input-9-34cc8c71b48b>\u001b[0m in \u001b[0;36minsert_anywhere\u001b[0;34m(arr, size, index, elem)\u001b[0m\n\u001b[1;32m      8\u001b[0m \u001b[0;34m\u001b[0m\u001b[0m\n\u001b[1;32m      9\u001b[0m   \u001b[0;32mif\u001b[0m \u001b[0msize\u001b[0m \u001b[0;34m>=\u001b[0m \u001b[0mlen\u001b[0m\u001b[0;34m(\u001b[0m\u001b[0marr\u001b[0m\u001b[0;34m)\u001b[0m\u001b[0;34m:\u001b[0m\u001b[0;34m\u001b[0m\u001b[0;34m\u001b[0m\u001b[0m\n\u001b[0;32m---> 10\u001b[0;31m     \u001b[0marr\u001b[0m\u001b[0;34m=\u001b[0m \u001b[0mresizeArray\u001b[0m\u001b[0;34m(\u001b[0m\u001b[0marr\u001b[0m\u001b[0;34m,\u001b[0m \u001b[0mlen\u001b[0m\u001b[0;34m(\u001b[0m\u001b[0marr\u001b[0m\u001b[0;34m)\u001b[0m\u001b[0;34m+\u001b[0m\u001b[0;36m3\u001b[0m\u001b[0;34m)\u001b[0m\u001b[0;34m\u001b[0m\u001b[0;34m\u001b[0m\u001b[0m\n\u001b[0m\u001b[1;32m     11\u001b[0m \u001b[0;34m\u001b[0m\u001b[0m\n\u001b[1;32m     12\u001b[0m   \u001b[0;32mfor\u001b[0m \u001b[0mi\u001b[0m \u001b[0;32min\u001b[0m \u001b[0mrange\u001b[0m\u001b[0;34m(\u001b[0m\u001b[0msize\u001b[0m\u001b[0;34m,\u001b[0m \u001b[0mindex\u001b[0m\u001b[0;34m,\u001b[0m \u001b[0;34m-\u001b[0m\u001b[0;36m1\u001b[0m\u001b[0;34m)\u001b[0m\u001b[0;34m:\u001b[0m \u001b[0;31m#Right Shift\u001b[0m\u001b[0;34m\u001b[0m\u001b[0;34m\u001b[0m\u001b[0m\n",
            "\u001b[0;31mNameError\u001b[0m: name 'resizeArray' is not defined"
          ]
        }
      ]
    },
    {
      "cell_type": "markdown",
      "source": [
        "# 3.8 Remove: Last element or any other element\n",
        "*   At first, check whether deletion is possible or not\n",
        "*   Valid places of deletion: index 0 to size-1\n",
        "*   If you are deleting the last element of the array, no shifting is needed\n",
        "*   If you are deleting any other element except for the last element, then the subsequent elements must be left shifted after deletion\n",
        "*   Decrease size after deletion"
      ],
      "metadata": {
        "id": "4uxKIGKpsUA4"
      }
    },
    {
      "cell_type": "code",
      "source": [
        "#Deleting last element\n",
        "def delete_last_element (arr, size):\n",
        "  if size == 0:\n",
        "    return \"Deletion Not Possible\"\n",
        "\n",
        "  arr[size-1]= 0\n",
        "  return arr\n",
        "\n",
        "arr= np.zeros(4, dtype=int)\n",
        "arr[0], arr[1], arr[2] = 4, 6, 5\n",
        "print(arr)\n",
        "print(delete_last_element(arr, 3)) #array, size\n",
        "print(delete_last_element(arr, 2)) #array, size"
      ],
      "metadata": {
        "colab": {
          "base_uri": "https://localhost:8080/"
        },
        "id": "zjfuNZbos34N",
        "outputId": "3da04902-c136-466e-b4cf-777174e4935c"
      },
      "execution_count": null,
      "outputs": [
        {
          "output_type": "stream",
          "name": "stdout",
          "text": [
            "[4 6 5 0]\n",
            "[4 6 0 0]\n",
            "[4 0 0 0]\n"
          ]
        }
      ]
    },
    {
      "cell_type": "code",
      "source": [
        "#Deleting any element\n",
        "def delete_any_element (arr, size, index):\n",
        "  if size == 0 or (index<0 and index>=size):\n",
        "    return \"Deletion Not Possible\"\n",
        "\n",
        "  for i in range(index, size-1, 1):\n",
        "    arr[i]=arr[i+1]\n",
        "  arr[size-1]=0\n",
        "  return arr\n",
        "\n",
        "arr= np.zeros(5, dtype=int)\n",
        "arr[0], arr[1], arr[2], arr[3] = 4, 6, 5, 2\n",
        "print(arr)\n",
        "print(delete_any_element(arr, 4, 0)) #array, size, index\n",
        "print(delete_any_element(arr, 3, 2)) #array, size, index"
      ],
      "metadata": {
        "colab": {
          "base_uri": "https://localhost:8080/"
        },
        "id": "MWCEtMVR4Hc1",
        "outputId": "18eb4cf8-c1ec-4370-c203-3035bac8a1f8"
      },
      "execution_count": null,
      "outputs": [
        {
          "output_type": "stream",
          "name": "stdout",
          "text": [
            "[4 6 5 2 0]\n",
            "[6 5 2 0 0]\n",
            "[6 5 0 0 0]\n"
          ]
        }
      ]
    },
    {
      "cell_type": "markdown",
      "source": [
        "#Homework 1: Check Palindrome\n",
        "Look up what a palindrome is. Write a function that checks whether an array is a plaindrome or not."
      ],
      "metadata": {
        "id": "ceOS86fT6Tmp"
      }
    },
    {
      "cell_type": "code",
      "source": [
        "def palindrome(arr, size):\n",
        "  pass\n",
        "\n",
        "arr= np.zeros(5, dtype=int)\n",
        "arr[0], arr[1], arr[2], arr[3] = 4, 6, 6, 4\n",
        "print(palindrome(arr, 4)) #array, size\n",
        "\n",
        "arr= np.zeros(5, dtype=int)\n",
        "arr[0], arr[1], arr[2] = 4, 6, 4\n",
        "print(palindrome(arr, 3)) #array, size\n",
        "\n",
        "arr= np.zeros(5, dtype=int)\n",
        "arr[0], arr[1], arr[2], arr[3] = 4, 6, 4, 5\n",
        "print(palindrome(arr, 4)) #array, size"
      ],
      "metadata": {
        "colab": {
          "base_uri": "https://localhost:8080/"
        },
        "id": "Uzscv3zA6gif",
        "outputId": "515bb83b-d7c1-4478-b107-e6abc73ac06d"
      },
      "execution_count": null,
      "outputs": [
        {
          "output_type": "stream",
          "name": "stdout",
          "text": [
            "True\n",
            "True\n",
            "False\n"
          ]
        }
      ]
    },
    {
      "cell_type": "markdown",
      "source": [
        "#Homework 2: Reverse Print\n",
        "Write a function Rev_Print that Reverse iterates and prints all the non-dummy values of an array.\n",
        "\n",
        "Function Call:\n",
        "\n",
        "arr= np.array([1 3 2 5 0 0])\n",
        "\n",
        "print(Rev_Print(arr, 4)) #Array, size\n",
        "\n",
        "Output:\n",
        "\n",
        "5 2 3 1"
      ],
      "metadata": {
        "id": "TeY3wGzBjrKn"
      }
    },
    {
      "cell_type": "markdown",
      "source": [
        "#Homework 3: Merge Two Arrays\n",
        "Write a function Merge_Arrays that takes two arrays and the sizes of those two arrays (total 4 parameters) and mergers the two arrays. There will be no dummy value in the merged array.\n",
        "\n",
        "Function Call:\n",
        "\n",
        "arr1= np.array([1 5 0 0])\n",
        "\n",
        "arr2= np.array([3 5 2 0])\n",
        "\n",
        "print(Merge_Arrays(arr1, 2, arr2, 3)) #Array1, Array1 size, Array2, Array2 size\n",
        "\n",
        "Output:\n",
        "\n",
        "[1 5 3 5 2]"
      ],
      "metadata": {
        "id": "xA57_asQky9k"
      }
    },
    {
      "cell_type": "markdown",
      "source": [
        "# Remove Duplicates"
      ],
      "metadata": {
        "id": "0Kpy9c7763hN"
      }
    },
    {
      "cell_type": "code",
      "source": [
        "def delete_any_element (arr, index):\n",
        "  print(arr[index], index)\n",
        "  if index<0 and index>=len(arr):\n",
        "    return \"Deletion Not Possible\"\n",
        "\n",
        "  for i in range(index, len(arr)-1, 1):\n",
        "    arr[i]=arr[i+1]\n",
        "  arr[len(arr)-1]=0\n",
        "  return arr"
      ],
      "metadata": {
        "id": "uq_T-gud77wH"
      },
      "execution_count": null,
      "outputs": []
    },
    {
      "cell_type": "code",
      "source": [
        "arr1 = np.array([1, 5, 3, 4, 0, 0, 5, 5, 5, 5])\n",
        "print(arr1)\n",
        "\n",
        "for i in range(len(arr1)):\n",
        "  for j in range(i+1, len(arr1)):\n",
        "    count= 0\n",
        "    while (arr1[i]==arr1[j] and arr1[i]!=0):\n",
        "      arr1= delete_any_element(arr1,j)\n",
        "\n",
        "print(arr1)"
      ],
      "metadata": {
        "colab": {
          "base_uri": "https://localhost:8080/"
        },
        "id": "bDUfePTd65Up",
        "outputId": "c8c66252-4cad-4233-8672-f9af2e0be2d0"
      },
      "execution_count": null,
      "outputs": [
        {
          "output_type": "stream",
          "name": "stdout",
          "text": [
            "[1 5 3 4 5 5 5 5]\n",
            "5 4\n",
            "5 4\n",
            "5 4\n",
            "5 4\n",
            "[1 5 3 4 0 0 0 0]\n"
          ]
        }
      ]
    },
    {
      "cell_type": "code",
      "source": [
        "def rem_dup (arr1, size):\n",
        "  for i in range(len(arr1)):\n",
        "    for j in range(i+1, len(arr1)):\n",
        "      count= 0\n",
        "      while (arr1[i]==arr1[j] and arr1[i]!=0): #count<size\n",
        "        arr1= delete_any_element(arr1,j)\n",
        "        size= size-1\n",
        "\n",
        "\n",
        "  print(arr1)\n",
        "\n",
        "arr1 = np.array([1, 5, 3, 4, 0, 0, 5, 5, 5, 5])\n",
        "print(arr1)\n",
        "rem_dup(arr1,10)"
      ],
      "metadata": {
        "id": "AE7xHTD-ANtl"
      },
      "execution_count": null,
      "outputs": []
    },
    {
      "cell_type": "markdown",
      "source": [
        "# Selection Sort"
      ],
      "metadata": {
        "id": "tdBgnymmAisQ"
      }
    },
    {
      "cell_type": "code",
      "source": [
        "arr1 = np.array([1, 5, 3, 4, 12, 0, 5, 15, 5, 5])\n",
        "\n",
        "for i in range(0, len(arr1), 1):\n",
        "  maxIdx= i\n",
        "  max= arr1[i]\n",
        "  for j in range(i+1,len(arr1), 1 ):\n",
        "    if arr1[j]<max:\n",
        "      max= arr1[j]\n",
        "      maxIdx= j\n",
        "  arr1[i], arr1[maxIdx]= arr1[maxIdx], arr1[i]\n",
        "\n",
        "print(arr1)"
      ],
      "metadata": {
        "colab": {
          "base_uri": "https://localhost:8080/"
        },
        "id": "Vpco0WxVAWxz",
        "outputId": "d829ff7f-5343-418a-c6d1-8acb5f22bb29"
      },
      "execution_count": null,
      "outputs": [
        {
          "output_type": "stream",
          "name": "stdout",
          "text": [
            "[ 0  1  3  4  5  5  5  5 12 15]\n"
          ]
        }
      ]
    },
    {
      "cell_type": "markdown",
      "source": [
        "# Binary Search"
      ],
      "metadata": {
        "id": "4ibAS_RoFx_b"
      }
    },
    {
      "cell_type": "code",
      "source": [
        "def binary_search(arr1, elem, start, end):\n",
        "\n",
        "  while (start!=end):\n",
        "    mid= (start+end)//2\n",
        "    if (arr1[mid]==elem):\n",
        "      return f\"Found at {mid} index\"\n",
        "    elif (arr1[mid]<elem):\n",
        "      start= mid+1\n",
        "    elif (arr1[mid]>elem):\n",
        "      end= mid-1\n",
        "\n",
        "  return f\"Not Found\"\n",
        "\n",
        "\n",
        "print(binary_search(arr1, 5, 0, len(arr1)-1))"
      ],
      "metadata": {
        "colab": {
          "base_uri": "https://localhost:8080/"
        },
        "id": "x0BZ2cXjCUB-",
        "outputId": "97de3d45-cb45-4e04-f920-f9a313cfe297"
      },
      "execution_count": null,
      "outputs": [
        {
          "output_type": "stream",
          "name": "stdout",
          "text": [
            "Found at 4 index\n"
          ]
        }
      ]
    }
  ]
}